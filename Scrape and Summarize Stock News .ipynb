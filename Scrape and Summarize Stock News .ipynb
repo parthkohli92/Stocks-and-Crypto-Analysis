{
 "cells": [
  {
   "cell_type": "markdown",
   "id": "2bbd2ab4",
   "metadata": {},
   "source": [
    "## Import Libraries"
   ]
  },
  {
   "cell_type": "code",
   "execution_count": 6,
   "id": "b7500f54",
   "metadata": {},
   "outputs": [
    {
     "name": "stdout",
     "output_type": "stream",
     "text": [
      "Requirement already satisfied: transformers in c:\\users\\asus\\desktop\\deep_learning\\env\\lib\\site-packages (4.15.0)\n",
      "Requirement already satisfied: tokenizers<0.11,>=0.10.1 in c:\\users\\asus\\desktop\\deep_learning\\env\\lib\\site-packages (from transformers) (0.10.3)\n",
      "Requirement already satisfied: regex!=2019.12.17 in c:\\users\\asus\\desktop\\deep_learning\\env\\lib\\site-packages (from transformers) (2021.8.3)\n",
      "Requirement already satisfied: tqdm>=4.27 in c:\\users\\asus\\desktop\\deep_learning\\env\\lib\\site-packages (from transformers) (4.62.3)\n",
      "Requirement already satisfied: requests in c:\\users\\asus\\desktop\\deep_learning\\env\\lib\\site-packages (from transformers) (2.25.1)\n",
      "Requirement already satisfied: filelock in c:\\users\\asus\\desktop\\deep_learning\\env\\lib\\site-packages (from transformers) (3.4.2)\n",
      "Requirement already satisfied: sacremoses in c:\\users\\asus\\desktop\\deep_learning\\env\\lib\\site-packages (from transformers) (0.0.47)\n",
      "Requirement already satisfied: huggingface-hub<1.0,>=0.1.0 in c:\\users\\asus\\desktop\\deep_learning\\env\\lib\\site-packages (from transformers) (0.4.0)\n",
      "Requirement already satisfied: packaging>=20.0 in c:\\users\\asus\\desktop\\deep_learning\\env\\lib\\site-packages (from transformers) (21.0)\n",
      "Requirement already satisfied: numpy>=1.17 in c:\\users\\asus\\desktop\\deep_learning\\env\\lib\\site-packages (from transformers) (1.20.3)\n",
      "Requirement already satisfied: pyyaml>=5.1 in c:\\users\\asus\\desktop\\deep_learning\\env\\lib\\site-packages (from transformers) (5.4.1)\n",
      "Requirement already satisfied: typing-extensions>=3.7.4.3 in c:\\users\\asus\\desktop\\deep_learning\\env\\lib\\site-packages (from huggingface-hub<1.0,>=0.1.0->transformers) (3.10.0.0)\n",
      "Requirement already satisfied: pyparsing>=2.0.2 in c:\\users\\asus\\desktop\\deep_learning\\env\\lib\\site-packages (from packaging>=20.0->transformers) (2.4.7)\n",
      "Requirement already satisfied: colorama in c:\\users\\asus\\desktop\\deep_learning\\env\\lib\\site-packages (from tqdm>=4.27->transformers) (0.4.4)\n",
      "Requirement already satisfied: idna<3,>=2.5 in c:\\users\\asus\\desktop\\deep_learning\\env\\lib\\site-packages (from requests->transformers) (2.10)\n",
      "Requirement already satisfied: chardet<5,>=3.0.2 in c:\\users\\asus\\desktop\\deep_learning\\env\\lib\\site-packages (from requests->transformers) (4.0.0)\n",
      "Requirement already satisfied: certifi>=2017.4.17 in c:\\users\\asus\\desktop\\deep_learning\\env\\lib\\site-packages (from requests->transformers) (2021.10.8)\n",
      "Requirement already satisfied: urllib3<1.27,>=1.21.1 in c:\\users\\asus\\desktop\\deep_learning\\env\\lib\\site-packages (from requests->transformers) (1.26.6)\n",
      "Requirement already satisfied: click in c:\\users\\asus\\desktop\\deep_learning\\env\\lib\\site-packages (from sacremoses->transformers) (8.0.1)\n",
      "Requirement already satisfied: joblib in c:\\users\\asus\\desktop\\deep_learning\\env\\lib\\site-packages (from sacremoses->transformers) (1.0.1)\n",
      "Requirement already satisfied: six in c:\\users\\asus\\desktop\\deep_learning\\env\\lib\\site-packages (from sacremoses->transformers) (1.16.0)\n"
     ]
    }
   ],
   "source": [
    "!pip install transformers"
   ]
  },
  {
   "cell_type": "code",
   "execution_count": 7,
   "id": "4e117f83",
   "metadata": {},
   "outputs": [
    {
     "name": "stdout",
     "output_type": "stream",
     "text": [
      "Requirement already satisfied: beautifulsoup4 in c:\\users\\asus\\desktop\\deep_learning\\env\\lib\\site-packages (4.10.0)\n",
      "Requirement already satisfied: soupsieve>1.2 in c:\\users\\asus\\desktop\\deep_learning\\env\\lib\\site-packages (from beautifulsoup4) (2.3.1)\n"
     ]
    }
   ],
   "source": [
    "!pip install beautifulsoup4"
   ]
  },
  {
   "cell_type": "code",
   "execution_count": 8,
   "id": "2db64e87",
   "metadata": {},
   "outputs": [],
   "source": [
    "from transformers import PegasusTokenizer, TFPegasusForConditionalGeneration\n",
    "from bs4 import BeautifulSoup\n",
    "import requests"
   ]
  },
  {
   "cell_type": "code",
   "execution_count": 9,
   "id": "8d318a3c",
   "metadata": {},
   "outputs": [
    {
     "name": "stdout",
     "output_type": "stream",
     "text": [
      "Requirement already satisfied: tf_sentencepiece in c:\\users\\asus\\desktop\\deep_learning\\env\\lib\\site-packages (0.1.3)\n"
     ]
    }
   ],
   "source": [
    "!pip install tf_sentencepiece"
   ]
  },
  {
   "cell_type": "markdown",
   "id": "bb4f2b5b",
   "metadata": {},
   "source": [
    "## Setup Summarization Model"
   ]
  },
  {
   "cell_type": "code",
   "execution_count": 10,
   "id": "df7c664a",
   "metadata": {},
   "outputs": [
    {
     "name": "stderr",
     "output_type": "stream",
     "text": [
      "All model checkpoint layers were used when initializing TFPegasusForConditionalGeneration.\n",
      "\n",
      "All the layers of TFPegasusForConditionalGeneration were initialized from the model checkpoint at human-centered-summarization/financial-summarization-pegasus.\n",
      "If your task is similar to the task the model of the checkpoint was trained on, you can already use TFPegasusForConditionalGeneration for predictions without further training.\n"
     ]
    }
   ],
   "source": [
    "model_name = \"human-centered-summarization/financial-summarization-pegasus\"\n",
    "tokenizer = PegasusTokenizer.from_pretrained(model_name)\n",
    "tmodel = TFPegasusForConditionalGeneration.from_pretrained(model_name)"
   ]
  },
  {
   "cell_type": "code",
   "execution_count": 11,
   "id": "aa5f2f2a",
   "metadata": {},
   "outputs": [
    {
     "data": {
      "text/plain": [
       "PreTrainedTokenizer(name_or_path='human-centered-summarization/financial-summarization-pegasus', vocab_size=96103, model_max_len=512, is_fast=False, padding_side='right', special_tokens={'eos_token': '</s>', 'unk_token': '<unk>', 'pad_token': '<pad>', 'mask_token': '<mask_2>', 'additional_special_tokens': ['<mask_1>', '<unk_2>', '<unk_3>', '<unk_4>', '<unk_5>', '<unk_6>', '<unk_7>', '<unk_8>', '<unk_9>', '<unk_10>', '<unk_11>', '<unk_12>', '<unk_13>', '<unk_14>', '<unk_15>', '<unk_16>', '<unk_17>', '<unk_18>', '<unk_19>', '<unk_20>', '<unk_21>', '<unk_22>', '<unk_23>', '<unk_24>', '<unk_25>', '<unk_26>', '<unk_27>', '<unk_28>', '<unk_29>', '<unk_30>', '<unk_31>', '<unk_32>', '<unk_33>', '<unk_34>', '<unk_35>', '<unk_36>', '<unk_37>', '<unk_38>', '<unk_39>', '<unk_40>', '<unk_41>', '<unk_42>', '<unk_43>', '<unk_44>', '<unk_45>', '<unk_46>', '<unk_47>', '<unk_48>', '<unk_49>', '<unk_50>', '<unk_51>', '<unk_52>', '<unk_53>', '<unk_54>', '<unk_55>', '<unk_56>', '<unk_57>', '<unk_58>', '<unk_59>', '<unk_60>', '<unk_61>', '<unk_62>', '<unk_63>', '<unk_64>', '<unk_65>', '<unk_66>', '<unk_67>', '<unk_68>', '<unk_69>', '<unk_70>', '<unk_71>', '<unk_72>', '<unk_73>', '<unk_74>', '<unk_75>', '<unk_76>', '<unk_77>', '<unk_78>', '<unk_79>', '<unk_80>', '<unk_81>', '<unk_82>', '<unk_83>', '<unk_84>', '<unk_85>', '<unk_86>', '<unk_87>', '<unk_88>', '<unk_89>', '<unk_90>', '<unk_91>', '<unk_92>', '<unk_93>', '<unk_94>', '<unk_95>', '<unk_96>', '<unk_97>', '<unk_98>', '<unk_99>', '<unk_100>', '<unk_101>', '<unk_102>']})"
      ]
     },
     "execution_count": 11,
     "metadata": {},
     "output_type": "execute_result"
    }
   ],
   "source": [
    "tokenizer"
   ]
  },
  {
   "cell_type": "markdown",
   "id": "7f8587c8",
   "metadata": {},
   "source": [
    "## Summarize an article"
   ]
  },
  {
   "cell_type": "code",
   "execution_count": 12,
   "id": "4fb30fcd",
   "metadata": {},
   "outputs": [],
   "source": [
    "url = \"https://finance.yahoo.com/news/3-strong-buy-stocks-too-144947041.html\"\n",
    "r = requests.get(url)\n",
    "soup = BeautifulSoup(r.text, 'html.parser')\n",
    "paragraphs = soup.find_all('p')"
   ]
  },
  {
   "cell_type": "code",
   "execution_count": 13,
   "id": "febb76f7",
   "metadata": {},
   "outputs": [
    {
     "data": {
      "text/plain": [
       "[<p class=\"xray-tooltip-text wafer-tooltip-text\"></p>,\n",
       " <p>Markets are down significantly from record highs; in fact, the NASDAQ has entered correction territory, with a decline of 15% while the S&amp;P 500’s decline is still at ~9%. These price declines come as the Federal Reserve signaled it will be raising rates this year. While higher interest rates will knock down inflation, stock markets are likely to take a tumble when the hikes come – and analysts are predicting anywhere from 2 to 4 rate hikes this year. The end of the central bank’s supportive policy will make for a rocky ride ahead.</p>,\n",
       " <p>The immediate short-term effect, as investors prepare the change in policy, is the correction we’re seeing. This means that investors will likely find solid buying opportunities coming up -- at least according to Nadia Lovell, senior U.S. equity strategist at UBS Global Wealth Management.</p>,\n",
       " <p>“The market has had a choppy start to the year, but it does feel like most of the selling might be behind us.. We’ll use the opportunity of indiscriminate selling to build a position over the long term... There’s an opportunity to build in high-quality names with sustainable business models,” Lovell noted.</p>,\n",
       " <p>Against this backdrop, we used <a class=\"link rapid-noclick-resp\" data-ylk=\"slk:TipRanks database\" href=\"https://click.tipranks.com/WJho/8645564c\" rel=\"nofollow noopener\" target=\"_blank\">TipRanks database</a> to find 3 cheap stocks. Essentially, we looked for 1) stocks with a ‘Strong Buy’ analyst consensus; 2) serious upside potential (i.e. over 50%). And on top of this, each one of these stocks is trading at 52-week low valuations. Let's take a closer look.</p>,\n",
       " <p><strong>Alteryx</strong> <strong>(<a class=\"link rapid-noclick-resp\" data-ylk=\"slk:AYX\" href=\"https://www.tipranks.com/stocks/ayx/stock-analysis\" rel=\"nofollow noopener\" target=\"_blank\">AYX</a>)</strong></p>,\n",
       " <p>The first stock on our radar is Alteryx, a California-based software company with a range of products to power data analytics and machine learning, making it possible for enterprise clients to make decisions, fine-tune end-user products, and streamline operations based on real-time information. The company dates back to the 1990s tech boom, and currently boasts over 7,000 customer companies worldwide.</p>,\n",
       " <p>Alteryx will release its 4Q21 numbers next month, but a look back at the third quarter results may be informative. Specifically, the top line of $124 million and the EPS loss of 18 cents per share were both slightly ahead of Street expectation. Furthermore, annual recurring revenue (ARR), an important forward-looking metric, grew 29% year-over-year, to reach $578.6 million.</p>,\n",
       " <p>The company finished Q3 with solid assets – cash and cash equivalents of $1 billion, and a nine-month cash from operations total of $24.3 million, up 49% from the prior year. Alteryx felt confident enough earlier this month to announce its acquisition of the data analytics company Trifacta for $400 million in cash.</p>,\n",
       " <p>Despite these positive signs for the company, Alteryx shares tumbled 59% over the past 12 months.</p>,\n",
       " <p>Covering the stock for JMP, 5-star analyst Patrick Walravens writes that he remains bullish on Alteryx, including among his reasons: “1) the company offers a strong solution set that competes very well in a massive TAM, estimated to be ~$49B; 2) the acquisition of Trifacta should help Alteryx expand its TAM by providing additional opportunities to target new data and cloud transformation initiatives, particularly in the Global 2000, of which ~39% are Alteryx customers; 3) Alteryx is investing more in its cloud capabilities with Designer Cloud, and we expect the company to benefit over time as its cloud capabilities mature and as its product portfolio gradually becomes available in the cloud…”</p>,\n",
       " <p>To this end, Walravens rates AYX an Outperform (i.e. Buy) along with a $159 price target. Possible gains of 211% could be heading investors’ way should the target be met over the next 12 months. (To watch Walravens’ track record, <a class=\"link rapid-noclick-resp\" data-ylk=\"slk:click here\" href=\"https://www.tipranks.com/experts/analysts/patrick-walravens\" rel=\"nofollow noopener\" target=\"_blank\"><strong>click here</strong></a>)</p>,\n",
       " <p>Overall, there are 7 recent analyst reviews here, breaking down 6 to 1 in favor of Buy over Hold and supporting the Strong Buy consensus rating. The stock is selling for $50.44 and its $101 average price target implies a one-year upside of ~100%. (<a class=\"link rapid-noclick-resp\" data-ylk=\"slk:See AYX stock forecast on TipRanks\" href=\"https://www.tipranks.com/stocks/ayx/forecast\" rel=\"nofollow noopener\" target=\"_blank\">See AYX stock forecast on TipRanks</a>)</p>,\n",
       " <p><strong>Duck Creek Technologies</strong> <strong>(<a class=\"link rapid-noclick-resp\" data-ylk=\"slk:DCT\" href=\"https://www.tipranks.com/stocks/dct/stock-analysis\" rel=\"nofollow noopener\" target=\"_blank\">DCT</a>)</strong></p>,\n",
       " <p>With the next stock, we’ll switch over to the East Coast, where Boston-based software company Duck Creek Technologies has made its mark in the insurance industry. Duck Creek produces cloud-based software industry-specific to the insurance sector, a large market with specific needs in accounting, underwriting, and other financial activities. The company’s software has found users among the industry’s biggest names, including AIG, Geico, and Liberty Mutual, and is also popular among smaller, regional players.</p>,\n",
       " <p>The company went public in August of 2020, and its stock generally held between $40 and $50 per share, before it collapsed in October 2021. The collapse came after Duck Creek released earnings for fiscal 4Q 2021 – and showed a serious GAAP loss of 13 cents per share for the year. Shares haven’t really recovered, and DCT is down 55% since one year ago.</p>,\n",
       " <p>In its fiscal 1Q22 report, however, released this month, Duck Creek showed a definite turnaround. GAAP income switched year-over-year from a 4-cent loss to a 1 cent profit; by non-GAAP measures, the profit was 4 cents per share. At the top line, revenue came in at $73.4 million, for a yoy gain of 25%, and the company finished its fiscal Q1 with $347.6 million in liquid assets and no debt.</p>,\n",
       " <p>All of this bodes well for the future, and writing from Raymond James, analyst Alexander Sklar sets out a similarly upbeat view: “DCT continues to execute on its land and expand strategy with 3 new core system logos, and SaaS net dollar retention of 122% that increased q/q and y/y. While the timing of Tier 1 core modernization activity remains difficult to predict, DCT appears to have several at bats in its late stage pipeline that could be additive to our near term outlook. With a long term (albeit lumpy) secular growth opportunity at its back, we remain positive on DCT’s positioning to capture an outsized share of incremental deal activity over the next several years.”</p>,\n",
       " <p>Unsurprisingly, Sklar gives DCT shares an Outperform (i.e. Buy) rating, and his $36 target price indicates an upside of ~54% in the next 12 months. (To watch Sklar’s track record, <a class=\"link rapid-noclick-resp\" data-ylk=\"slk:click here\" href=\"https://www.tipranks.com/experts/analysts/alexander-sklar\" rel=\"nofollow noopener\" target=\"_blank\"><strong>click here</strong></a>)</p>,\n",
       " <p>Wall Street is in broad agreement about this stock’s positive outlook; the 8 recent reviews include 7 Buys against just 1 Hold, for a Strong Buy consensus rating. The shares are priced at $23.56 and the $38.25 average price target suggests ~63% upside from that level. (<a class=\"link rapid-noclick-resp\" data-ylk=\"slk:See DCT stock forecast on TipRanks\" href=\"https://www.tipranks.com/stocks/dct/forecast\" rel=\"nofollow noopener\" target=\"_blank\">See DCT stock forecast on TipRanks</a>)</p>,\n",
       " <p><strong>Elastic (<a class=\"link rapid-noclick-resp\" data-ylk=\"slk:ESTC\" href=\"https://www.tipranks.com/stocks/estc/stock-analysis\" rel=\"nofollow noopener\" target=\"_blank\">ESTC</a>)</strong></p>,\n",
       " <p>Last but not least is Elastic, an American-Dutch company offering SaaS software solutions for searching, security, access logs, observability, and analytics. The company’s software has found its place among some of the business world’s biggest names, names as diverse as Adobe, Audi, T-Mobile, and Walmart. Elastic gives customers – from major corporations to small-time bloggers – the ability to explore, parse, and analyze their data through customizable search functions.</p>,\n",
       " <p>Elastic has shown a classic ‘growth stock’ profile, with rising revenues and regular quarterly EPS losses as the company channels funds into development and marketing initiatives. A quick look at the most recent quarterly release, for fiscal 2Q22, shows the story. The company reported $206 million at the top line, up 42% year-over-year, a total that included an 84% gain in Elastic Cloud Revenue, to $69 million. At the same time, sales and marketing spending grew from $64.4 million one year ago to $94.9 million in the current quarter, an increase of 47%. Elastic’s GAAP operating loss came to $37.2 million, or 51 cents per share. The non-GAAP loss was 9 cents per share.</p>,\n",
       " <p>Investors would appear to be growing cautious here, possibly due to the recurring losses and possibly also as an artifact of a larger market shift from growth to value stocks. Also weighing on investors, the company has been reshuffling its upper management this month. CEO Shay Banon stepped aside to resume his old CTO position, while Ashutosh Kulkarni has been promoted to the CEO position. Overall, ESTC shares are down 58% from their November 2021 peak price.</p>,\n",
       " <p>Matthew Hedberg, 5-star analyst from RBC, covers Elastic, and he notes both the management shuffle and the solid revenue performance. His bottom line is, the shuffle may be positive, while the company is poised to keep delivering increasing sales. He writes: “Timing-wise, a transition like this is never easy as management noted the logical time was the start of a new calendar year as they continue to feel good about their products and go-to-market momentum... Overall, we continue to believe the combination of an expanding product stack including a mix-shift to Elastic Cloud that seems to be accelerating customer additions and potentially additional growth disclosures (we'd like to see ARR) could push shares higher.”</p>,\n",
       " <p>These comments support Hedberg’s Outperform (i.e. Buy) rating, while his $165 price target implies a one-year upside potential of ~110%. (To watch Hedberg’s track record, <a class=\"link rapid-noclick-resp\" data-ylk=\"slk:click here\" href=\"https://www.tipranks.com/experts/analysts/matthew-hedberg\" rel=\"nofollow noopener\" target=\"_blank\"><strong>click here</strong></a>)</p>,\n",
       " <p>All in all, this company has attracted plenty of analyst attention, with a total of 13 recent reviews. These include 10 Buy and 3 Holds to back a Strong Buy consensus. The average price target of $168.55 suggests an upside of ~114% form the current share price of $79. (<a class=\"link rapid-noclick-resp\" data-ylk=\"slk:See ESTC stock forecast on TipRanks\" href=\"https://www.tipranks.com/stocks/estc/forecast\" rel=\"nofollow noopener\" target=\"_blank\">See ESTC stock forecast on TipRanks</a>)</p>,\n",
       " <p>To find good ideas for stocks trading at attractive valuations, visit TipRanks’ <a class=\"link rapid-noclick-resp\" data-ylk=\"slk:Best Stocks to Buy\" href=\"https://www.tipranks.com/stocks-to-buy\" rel=\"nofollow noopener\" target=\"_blank\">Best Stocks to Buy</a>, a newly launched tool that unites all of TipRanks’ equity insights.</p>,\n",
       " <p><em>Disclaimer</em><em>: The opinions expressed in this article are solely those of the featured analysts. The content is intended to be used for informational purposes only. It is very important to do your own analysis before making any investment.</em></p>,\n",
       " <p class=\"M(0) C($summaryColor) Fz(14px) Lh(1.43em) LineClamp(3,60px)\">It’s no secret that we’re seeing a market correction right now, and no real surprise, either. From war drums on the Russia-Ukraine border to rising inflation to the prospect of at least three Fed rate hikes coming sooner rather than late -- all are likely to weigh on investors' sentiment. The recent downturn in the market is giving investors an incentive to move toward two of the value segment’s popular choices, stock in companies offering dividends or corporate buybacks. Both bring value to the</p>,\n",
       " <p class=\"M(0) C($summaryColor) Fz(14px) Lh(1.43em) LineClamp(3,60px)\">Microsoft reported its Q2 earnings after the bell on Tuesday beating analysts' expectations on strong demand for its cloud services.</p>,\n",
       " <p class=\"M(0) C($summaryColor) Fz(14px) Lh(1.43em) LineClamp(3,60px)\">DEEP DIVE  Monday’s stock-market decline accelerated, and a closer look at the day’s worst performers highlighted painful double-digit year-to-date drops. The Dow Jones Industrial Average (DJIA) was down as much as 820 points (or 2.</p>,\n",
       " <p class=\"M(0) C($summaryColor) Fz(14px) Lh(1.43em) LineClamp(3,60px)\">Publicis Sapient CEO Nigel Vaz joins Yahoo Finance Live to discuss the state of utility infrastructure, how vulnerable community utilities are from extreme weather events, and the opportunities clean energy may provide.</p>,\n",
       " <p class=\"M(0) C($summaryColor) Fz(14px) Lh(1.43em) LineClamp(3,60px)\">Americans woke up Monday morning to a stock market in sharp decline.  Last week, the Dow Jones Industrial Average  (DJIA)  sealed it worst weekly loss since October 2020, while the S&amp;P 500 (SPX)  and Nasdaq Composite  (COMP)  recorded their worst weekly downturns since March 2020.  The latest downturns have come as markets have attempted to recalibrate ahead of policy changes at the Federal Reserve.</p>,\n",
       " <p class=\"M(0) C($summaryColor) Fz(14px) Lh(1.43em) LineClamp(3,60px)\">President&amp;nbsp;Joe Biden&amp;nbsp;can be heard calling a&amp;nbsp;Fox&amp;nbsp;News reporter a \"stupid son of a b----.\"&amp;nbsp;Peter Doocy tried to question Biden about inflation as journalists were ushered out of White House's East Room where the president was hosting a meeting with economic advisers. Doocy, appearing later on&amp;nbsp;Sean Hannity's Fox program, said Biden had&amp;nbsp;called&amp;nbsp;to apologize.</p>,\n",
       " <p class=\"M(0) C($summaryColor) Fz(14px) Lh(1.43em) LineClamp(3,60px)\">The stock market is down—a lot, but it was institutional money, not retail traders, that helped the major indexes turn around on Monday.</p>,\n",
       " <p class=\"M(0) C($summaryColor) Fz(14px) Lh(1.43em) LineClamp(3,60px)\">NEW HAVEN, Conn. (Project Syndicate)—The Federal Reserve has turned on a dime, an uncharacteristic about-face for an institution long noted for slow and deliberate shifts in monetary policy.  While the Fed’s recent messaging (it hasn’t really done anything yet) is not as creative as I had hoped, at least it has recognized that it has a serious problem.  Like the Fed I worked at in the early 1970s under Arthur Burns, today’s policy makers once again misdiagnosed the initial outbreak.</p>,\n",
       " <p class=\"M(0) C($summaryColor) Fz(14px) Lh(1.43em) LineClamp(3,60px)\">Yahoo Finance's Jared Blikre examines Microsoft's after-hours trading. Greg Swenson, Brigg Macadam Founding Partner, and John Kicklighter, DailyFX Chief Strategist, provide additional commentary on Microsoft's earnings during a volatile market.</p>,\n",
       " <p class=\"M(0) C($summaryColor) Fz(14px) Lh(1.43em) LineClamp(3,60px)\">These are the stocks you should be looking to buy before interest rates go higher.</p>,\n",
       " <p class=\"M(0) C($summaryColor) Fz(14px) Lh(1.43em) LineClamp(3,60px)\">As inflation has gained traction in the last year, commentators constantly remark about how it is particularly hard on retirees who live on a “fixed income.”  Retirees do not live on fixed incomes.  The 60% of households in the lower portion of the income distribution receive the bulk of their retirement income from Social Security (see Table 1).</p>,\n",
       " <p class=\"M(0) C($summaryColor) Fz(14px) Lh(1.43em) LineClamp(3,60px)\">Stock futures opened lower Tuesday evening after another volatile session on Wall Street, as investors looked to the Federal Reserve's latest monetary policy meeting and press conference to remove some uncertainty on the outlook for monetary policy.</p>,\n",
       " <p class=\"M(0) C($summaryColor) Fz(14px) Lh(1.43em) LineClamp(3,60px)\">Top digital payments stock PayPal is one of the leading growth stocks in the current stock market. But is it a buy right now?</p>,\n",
       " <p class=\"M(0) C($summaryColor) Fz(14px) Lh(1.43em) LineClamp(3,60px)\">Watching trillions of dollars evaporate gets the imagination reeling. Already three strategists try to find when the S&amp;P 500 might bottom.</p>,\n",
       " <p class=\"M(0) C($summaryColor) Fz(14px) Lh(1.43em) LineClamp(3,60px)\">Wood previously predicted bitcoin would reach $500,000 by 2026.</p>,\n",
       " <p class=\"M(0) C($summaryColor) Fz(14px) Lh(1.43em) LineClamp(3,60px)\">Two and a half years after IBM closed on its $34 billion mega-buy of Raleigh’s Red Hat, could another buyout be on the horizon?</p>,\n",
       " <p class=\"M(0) C($summaryColor) Fz(14px) Lh(1.43em) LineClamp(3,60px)\">Being the boss is more challenging and less rewarding now than it’s ever been, and as a result more managers are quitting their jobs.</p>,\n",
       " <p class=\"M(0) C($summaryColor) Fz(14px) Lh(1.43em) LineClamp(3,60px)\">The president needs to give a big speech and follow up with action on high prices.</p>,\n",
       " <p class=\"M(0) C($summaryColor) Fz(14px) Lh(1.43em) LineClamp(3,60px)\">The online trading platform, which helped pioneer commission-free trading, and several other brokerages on Jan. 28, 2021, restricted trading in GameStop and a handful of other \"meme\" stocks as the regulatory deposit requirements for settling the securities skyrocketed during the rally driven by retail investors.  Robinhood said in Tuesday's blog post that its net capital position was $2.7 billion, more than 25 times what is currently required by the U.S. Securities and Exchange Commission.  Those restrictions had infuriated clients trying to buy and sell the \"meme\" stocks.</p>,\n",
       " <p class=\"M(0) C($summaryColor) Fz(14px) Lh(1.43em) LineClamp(3,60px)\">(Bloomberg) -- As stocks extend their slide Monday following one of the worst weeks for global shares since the start of the pandemic, Victoria Fernandez is eyeing a sale in several pockets of the equity market.Most Read from BloombergStocks Storm Back From 4% Rout to Close Higher: Markets WrapUAE Says New Attack Repelled as Yemen’s Houthis Vow MoreChina’s ‘Little Giants’ Are Its Latest Weapon in the U.S. Tech WarCrypto Crash Erases More Than $1 Trillion in Market ValuePentagon Says 8,500 Troops</p>]"
      ]
     },
     "execution_count": 13,
     "metadata": {},
     "output_type": "execute_result"
    }
   ],
   "source": [
    "paragraphs"
   ]
  },
  {
   "cell_type": "code",
   "execution_count": 14,
   "id": "727e0a17",
   "metadata": {},
   "outputs": [
    {
     "data": {
      "text/plain": [
       "'Markets are down significantly from record highs; in fact, the NASDAQ has entered correction territory, with a decline of 15% while the S&P 500’s decline is still at ~9%. These price declines come as the Federal Reserve signaled it will be raising rates this year. While higher interest rates will knock down inflation, stock markets are likely to take a tumble when the hikes come – and analysts are predicting anywhere from 2 to 4 rate hikes this year. The end of the central bank’s supportive policy will make for a rocky ride ahead.'"
      ]
     },
     "execution_count": 14,
     "metadata": {},
     "output_type": "execute_result"
    }
   ],
   "source": [
    "paragraphs[1].text"
   ]
  },
  {
   "cell_type": "code",
   "execution_count": 15,
   "id": "d675f201",
   "metadata": {},
   "outputs": [],
   "source": [
    "text = [paragraph.text for paragraph in paragraphs]\n",
    "words = ' '.join(text).split(' ')[:400]\n",
    "ARTICLE = ' '.join(words)"
   ]
  },
  {
   "cell_type": "code",
   "execution_count": 16,
   "id": "47a26ab4",
   "metadata": {
    "scrolled": true
   },
   "outputs": [
    {
     "data": {
      "text/plain": [
       "\" Markets are down significantly from record highs; in fact, the NASDAQ has entered correction territory, with a decline of 15% while the S&P 500’s decline is still at ~9%. These price declines come as the Federal Reserve signaled it will be raising rates this year. While higher interest rates will knock down inflation, stock markets are likely to take a tumble when the hikes come – and analysts are predicting anywhere from 2 to 4 rate hikes this year. The end of the central bank’s supportive policy will make for a rocky ride ahead. The immediate short-term effect, as investors prepare the change in policy, is the correction we’re seeing. This means that investors will likely find solid buying opportunities coming up -- at least according to Nadia Lovell, senior U.S. equity strategist at UBS Global Wealth Management. “The market has had a choppy start to the year, but it does feel like most of the selling might be behind us.. We’ll use the opportunity of indiscriminate selling to build a position over the long term... There’s an opportunity to build in high-quality names with sustainable business models,” Lovell noted. Against this backdrop, we used TipRanks database to find 3 cheap stocks. Essentially, we looked for 1) stocks with a ‘Strong Buy’ analyst consensus; 2) serious upside potential (i.e. over 50%). And on top of this, each one of these stocks is trading at 52-week low valuations. Let's take a closer look. Alteryx (AYX) The first stock on our radar is Alteryx, a California-based software company with a range of products to power data analytics and machine learning, making it possible for enterprise clients to make decisions, fine-tune end-user products, and streamline operations based on real-time information. The company dates back to the 1990s tech boom, and currently boasts over 7,000 customer companies worldwide. Alteryx will release its 4Q21 numbers next month, but a look back at the third quarter results may be informative. Specifically, the top line of $124 million and the EPS loss of 18 cents per share were both slightly ahead of Street expectation. Furthermore, annual recurring revenue (ARR), an important forward-looking metric, grew 29% year-over-year, to reach $578.6 million. The company finished Q3 with solid assets – cash and cash equivalents of $1 billion, and a nine-month cash from operations total of $24.3 million, up 49% from the prior year. Alteryx felt confident enough earlier\""
      ]
     },
     "execution_count": 16,
     "metadata": {},
     "output_type": "execute_result"
    }
   ],
   "source": [
    "ARTICLE"
   ]
  },
  {
   "cell_type": "code",
   "execution_count": 17,
   "id": "0f66650d",
   "metadata": {},
   "outputs": [
    {
     "name": "stdout",
     "output_type": "stream",
     "text": [
      "Requirement already satisfied: sentencepiece in c:\\users\\asus\\desktop\\deep_learning\\env\\lib\\site-packages (0.1.96)\n"
     ]
    }
   ],
   "source": [
    "!pip install sentencepiece"
   ]
  },
  {
   "cell_type": "code",
   "execution_count": 20,
   "id": "c536bd53",
   "metadata": {},
   "outputs": [],
   "source": [
    "input_ids = tokenizer.encode(ARTICLE, return_tensors='tf')"
   ]
  },
  {
   "cell_type": "code",
   "execution_count": 27,
   "id": "e80aa8fd",
   "metadata": {},
   "outputs": [],
   "source": [
    "output = tmodel.generate(input_ids, max_length=75, num_beams=7, early_stopping=True)\n",
    "summary = tokenizer.decode(output[0], skip_special_tokens=True)"
   ]
  },
  {
   "cell_type": "code",
   "execution_count": 28,
   "id": "2cbc900d",
   "metadata": {},
   "outputs": [
    {
     "data": {
      "text/plain": [
       "'Software company Alteryx on our radar. Analysts have a ‘Strong Buy’ consensus for the stock'"
      ]
     },
     "execution_count": 28,
     "metadata": {},
     "output_type": "execute_result"
    }
   ],
   "source": [
    "summary"
   ]
  },
  {
   "cell_type": "markdown",
   "id": "a842702d",
   "metadata": {},
   "source": [
    "## Building a news and sentiment pipeline "
   ]
  },
  {
   "cell_type": "code",
   "execution_count": 35,
   "id": "9f285e36",
   "metadata": {},
   "outputs": [],
   "source": [
    "monitored_tickers = ['GOOGLE', 'TSLA', 'BTC', 'ETH']"
   ]
  },
  {
   "cell_type": "code",
   "execution_count": 36,
   "id": "ff703814",
   "metadata": {},
   "outputs": [],
   "source": [
    "def search_for_stock_news_urls(ticker):\n",
    "    search_url = \"https://www.google.com/search?q=yahoo+finance+{}&tbm=nws\".format(ticker)\n",
    "    r=requests.get(search_url)\n",
    "    soup=BeautifulSoup(r.text, 'html.parser')\n",
    "    atags=soup.find_all('a')\n",
    "    hrefs = [link['href']for link in atags]\n",
    "    return hrefs"
   ]
  },
  {
   "cell_type": "code",
   "execution_count": 37,
   "id": "62459846",
   "metadata": {
    "collapsed": true
   },
   "outputs": [
    {
     "data": {
      "text/plain": [
       "{'GOOGLE': ['/?sa=X&ved=0ahUKEwiO-KyQhc_1AhVhHrkGHQRzAdwQOwgC',\n",
       "  '/?output=search&ie=UTF-8&tbm=nws&sa=X&ved=0ahUKEwiO-KyQhc_1AhVhHrkGHQRzAdwQPAgE',\n",
       "  '/search?q=yahoo+finance+GOOGLE&tbm=nws&ie=UTF-8&gbv=1&sei=yAvxYY70GuG85OUPhOaF4A0',\n",
       "  '/search?q=yahoo+finance+GOOGLE&ie=UTF-8&source=lnms&sa=X&ved=0ahUKEwiO-KyQhc_1AhVhHrkGHQRzAdwQ_AUIBygA',\n",
       "  '/search?q=yahoo+finance+GOOGLE&ie=UTF-8&tbm=vid&source=lnms&sa=X&ved=0ahUKEwiO-KyQhc_1AhVhHrkGHQRzAdwQ_AUICSgC',\n",
       "  '/search?q=yahoo+finance+GOOGLE&ie=UTF-8&tbm=isch&source=lnms&sa=X&ved=0ahUKEwiO-KyQhc_1AhVhHrkGHQRzAdwQ_AUICigD',\n",
       "  'https://maps.google.com/maps?q=yahoo+finance+GOOGLE&um=1&ie=UTF-8&sa=X&ved=0ahUKEwiO-KyQhc_1AhVhHrkGHQRzAdwQ_AUICygE',\n",
       "  '/search?q=yahoo+finance+GOOGLE&ie=UTF-8&tbm=shop&source=lnms&sa=X&ved=0ahUKEwiO-KyQhc_1AhVhHrkGHQRzAdwQ_AUIDCgF',\n",
       "  '/search?q=yahoo+finance+GOOGLE&ie=UTF-8&tbm=bks&source=lnms&sa=X&ved=0ahUKEwiO-KyQhc_1AhVhHrkGHQRzAdwQ_AUIDSgG',\n",
       "  '/advanced_search',\n",
       "  '/search?q=yahoo+finance+GOOGLE&ie=UTF-8&tbm=nws&source=lnt&tbs=qdr:h&sa=X&ved=0ahUKEwiO-KyQhc_1AhVhHrkGHQRzAdwQpwUIDw',\n",
       "  '/search?q=yahoo+finance+GOOGLE&ie=UTF-8&tbm=nws&source=lnt&tbs=qdr:d&sa=X&ved=0ahUKEwiO-KyQhc_1AhVhHrkGHQRzAdwQpwUIEA',\n",
       "  '/search?q=yahoo+finance+GOOGLE&ie=UTF-8&tbm=nws&source=lnt&tbs=qdr:w&sa=X&ved=0ahUKEwiO-KyQhc_1AhVhHrkGHQRzAdwQpwUIEQ',\n",
       "  '/search?q=yahoo+finance+GOOGLE&ie=UTF-8&tbm=nws&source=lnt&tbs=qdr:m&sa=X&ved=0ahUKEwiO-KyQhc_1AhVhHrkGHQRzAdwQpwUIEg',\n",
       "  '/search?q=yahoo+finance+GOOGLE&ie=UTF-8&tbm=nws&source=lnt&tbs=qdr:y&sa=X&ved=0ahUKEwiO-KyQhc_1AhVhHrkGHQRzAdwQpwUIEw',\n",
       "  '/search?q=yahoo+finance+GOOGLE&ie=UTF-8&tbm=nws&source=lnt&tbs=ar:1&sa=X&ved=0ahUKEwiO-KyQhc_1AhVhHrkGHQRzAdwQpwUIFA',\n",
       "  '/search?q=yahoo+finance+GOOGLE&ie=UTF-8&tbm=nws&source=lnt&tbs=sbd:1&sa=X&ved=0ahUKEwiO-KyQhc_1AhVhHrkGHQRzAdwQpwUIFg',\n",
       "  '/url?q=https://finance.yahoo.com/news/data-trek-on-why-big-tech-is-being-battered-despite-q-4-001820239.html&sa=U&ved=2ahUKEwiO-KyQhc_1AhVhHrkGHQRzAdwQxfQBegQIABAB&usg=AOvVaw0O1vxsacPQaamwRoP5PgE2',\n",
       "  '/url?q=https://finance.yahoo.com/news/data-trek-on-why-big-tech-is-being-battered-despite-q-4-001820239.html&sa=U&ved=2ahUKEwiO-KyQhc_1AhVhHrkGHQRzAdwQ0Y8FegQIABAC&usg=AOvVaw3g54wL1tSfQ6K_d_s-JcAl',\n",
       "  '/url?q=https://finance.yahoo.com/news/google-offers-replacement-advertising-cookies-130850396.html&sa=U&ved=2ahUKEwiO-KyQhc_1AhVhHrkGHQRzAdwQxfQBegQICBAB&usg=AOvVaw2jzK2reNeXOC8n2Q-lGeRw',\n",
       "  '/url?q=https://finance.yahoo.com/news/google-offers-replacement-advertising-cookies-130850396.html&sa=U&ved=2ahUKEwiO-KyQhc_1AhVhHrkGHQRzAdwQ0Y8FegQICBAC&usg=AOvVaw17zbPzGeJ0GUXHWKs0RZfx',\n",
       "  '/url?q=https://finance.yahoo.com/news/google-kills-off-floc-replaces-130050952.html&sa=U&ved=2ahUKEwiO-KyQhc_1AhVhHrkGHQRzAdwQxfQBegQICRAB&usg=AOvVaw1IP-KwWeiRejwQyvY3_qxW',\n",
       "  '/url?q=https://finance.yahoo.com/news/google-kills-off-floc-replaces-130050952.html&sa=U&ved=2ahUKEwiO-KyQhc_1AhVhHrkGHQRzAdwQ0Y8FegQICRAC&usg=AOvVaw3CcjAV7BTQKeHbnNDYRd9w',\n",
       "  '/url?q=https://ca.finance.yahoo.com/news/daily-crunch-google-dumps-floc-231354351.html&sa=U&ved=2ahUKEwiO-KyQhc_1AhVhHrkGHQRzAdwQxfQBegQIAxAB&usg=AOvVaw0BhbDsCI-L8-FqBsjgVjzm',\n",
       "  '/url?q=https://ca.finance.yahoo.com/news/daily-crunch-google-dumps-floc-231354351.html&sa=U&ved=2ahUKEwiO-KyQhc_1AhVhHrkGHQRzAdwQ0Y8FegQIAxAC&usg=AOvVaw0Foh43en4kHHSKA_4GAKr4',\n",
       "  '/url?q=https://finance.yahoo.com/news/microsoft-slowing-cloud-growth-casts-212133658.html&sa=U&ved=2ahUKEwiO-KyQhc_1AhVhHrkGHQRzAdwQxfQBegQIBxAB&usg=AOvVaw3jzpO3EDXlgDuctYOOVvvc',\n",
       "  '/url?q=https://finance.yahoo.com/news/microsoft-slowing-cloud-growth-casts-212133658.html&sa=U&ved=2ahUKEwiO-KyQhc_1AhVhHrkGHQRzAdwQ0Y8FegQIBxAC&usg=AOvVaw2p98lpfG1phj3bIELgkeM0',\n",
       "  '/url?q=https://finance.yahoo.com/news/google-chromecast-with-google-tv-2-boreal-181018441.html&sa=U&ved=2ahUKEwiO-KyQhc_1AhVhHrkGHQRzAdwQxfQBegQIARAB&usg=AOvVaw05xXTo1ej82JGN2cS4kG3q',\n",
       "  '/url?q=https://finance.yahoo.com/news/google-chromecast-with-google-tv-2-boreal-181018441.html&sa=U&ved=2ahUKEwiO-KyQhc_1AhVhHrkGHQRzAdwQ0Y8FegQIARAC&usg=AOvVaw2I5zLKHtkQdd-cOgMCOGLu',\n",
       "  '/url?q=https://finance.yahoo.com/news/tunisian-enterprise-ai-startup-instadeep-120357959.html&sa=U&ved=2ahUKEwiO-KyQhc_1AhVhHrkGHQRzAdwQxfQBegQIBhAB&usg=AOvVaw3Sug8a98d9DC_3zu6u7AjD',\n",
       "  '/url?q=https://finance.yahoo.com/news/tunisian-enterprise-ai-startup-instadeep-120357959.html&sa=U&ved=2ahUKEwiO-KyQhc_1AhVhHrkGHQRzAdwQ0Y8FegQIBhAC&usg=AOvVaw0MLzC9UGeTMyGVBpLmT7V_',\n",
       "  '/url?q=https://ca.finance.yahoo.com/news/google-cannot-escape-location-privacy-193641130.html&sa=U&ved=2ahUKEwiO-KyQhc_1AhVhHrkGHQRzAdwQxfQBegQIAhAB&usg=AOvVaw2pdYHZs2ZQbqS8awNP1kcf',\n",
       "  '/url?q=https://ca.finance.yahoo.com/news/google-cannot-escape-location-privacy-193641130.html&sa=U&ved=2ahUKEwiO-KyQhc_1AhVhHrkGHQRzAdwQ0Y8FegQIAhAC&usg=AOvVaw2wPsRRb733JzGHknshIgs2',\n",
       "  '/url?q=https://finance.yahoo.com/news/google-ar-headset-leak-173237029.html&sa=U&ved=2ahUKEwiO-KyQhc_1AhVhHrkGHQRzAdwQxfQBegQIBRAB&usg=AOvVaw0qcnoRL3UmU4OujUqBQN-d',\n",
       "  '/url?q=https://finance.yahoo.com/news/google-ar-headset-leak-173237029.html&sa=U&ved=2ahUKEwiO-KyQhc_1AhVhHrkGHQRzAdwQ0Y8FegQIBRAC&usg=AOvVaw3F8qfNPSIoOR9Bzi3KN7eT',\n",
       "  '/url?q=https://finance.yahoo.com/news/deepmind-ai-mustafa-suleyman-google-greylock-partners-152049755.html&sa=U&ved=2ahUKEwiO-KyQhc_1AhVhHrkGHQRzAdwQxfQBegQIBBAB&usg=AOvVaw2bT-xx75ZEPGIJuTrdyvnX',\n",
       "  '/url?q=https://finance.yahoo.com/news/deepmind-ai-mustafa-suleyman-google-greylock-partners-152049755.html&sa=U&ved=2ahUKEwiO-KyQhc_1AhVhHrkGHQRzAdwQ0Y8FegQIBBAC&usg=AOvVaw0QiZyy6PnSrLzhOxEzisKl',\n",
       "  '/search?q=yahoo+finance+GOOGLE&ie=UTF-8&tbm=nws&ei=yAvxYY70GuG85OUPhOaF4A0&start=10&sa=N',\n",
       "  '/url?q=https://support.google.com/websearch%3Fp%3Dws_settings_location%26hl%3Den-IN&sa=U&ved=0ahUKEwiO-KyQhc_1AhVhHrkGHQRzAdwQty4IVQ&usg=AOvVaw13osrmleZWmjZLOn4L6hgZ',\n",
       "  '/url?q=https://accounts.google.com/ServiceLogin%3Fcontinue%3Dhttps://www.google.com/search%253Fq%253Dyahoo%252Bfinance%252BGOOGLE%2526tbm%253Dnws%26hl%3Den&sa=U&ved=0ahUKEwiO-KyQhc_1AhVhHrkGHQRzAdwQxs8CCFY&usg=AOvVaw24_WlaEhfWvv2kuAoMQipJ',\n",
       "  'https://www.google.com/preferences?hl=en-IN&fg=1&sa=X&ved=0ahUKEwiO-KyQhc_1AhVhHrkGHQRzAdwQ5fUCCFc',\n",
       "  'https://policies.google.com/privacy?hl=en-IN&fg=1',\n",
       "  'https://policies.google.com/terms?hl=en-IN&fg=1'],\n",
       " 'TSLA': ['/?sa=X&ved=0ahUKEwjcwvmQhc_1AhVPJbkGHRwkAhUQOwgC',\n",
       "  '/?output=search&ie=UTF-8&tbm=nws&sa=X&ved=0ahUKEwjcwvmQhc_1AhVPJbkGHRwkAhUQPAgE',\n",
       "  '/search?q=yahoo+finance+TSLA&tbm=nws&ie=UTF-8&gbv=1&sei=yQvxYZy6Ks_K5OUPnMiIqAE',\n",
       "  '/search?q=yahoo+finance+TSLA&ie=UTF-8&source=lnms&sa=X&ved=0ahUKEwjcwvmQhc_1AhVPJbkGHRwkAhUQ_AUIBygA',\n",
       "  '/search?q=yahoo+finance+TSLA&ie=UTF-8&tbm=bks&source=lnms&sa=X&ved=0ahUKEwjcwvmQhc_1AhVPJbkGHRwkAhUQ_AUICSgC',\n",
       "  '/search?q=yahoo+finance+TSLA&ie=UTF-8&tbm=shop&source=lnms&sa=X&ved=0ahUKEwjcwvmQhc_1AhVPJbkGHRwkAhUQ_AUICigD',\n",
       "  '/search?q=yahoo+finance+TSLA&ie=UTF-8&tbm=isch&source=lnms&sa=X&ved=0ahUKEwjcwvmQhc_1AhVPJbkGHRwkAhUQ_AUICygE',\n",
       "  'https://maps.google.com/maps?q=yahoo+finance+TSLA&um=1&ie=UTF-8&sa=X&ved=0ahUKEwjcwvmQhc_1AhVPJbkGHRwkAhUQ_AUIDCgF',\n",
       "  '/search?q=yahoo+finance+TSLA&ie=UTF-8&tbm=vid&source=lnms&sa=X&ved=0ahUKEwjcwvmQhc_1AhVPJbkGHRwkAhUQ_AUIDSgG',\n",
       "  '/advanced_search',\n",
       "  '/search?q=yahoo+finance+TSLA&ie=UTF-8&tbm=nws&source=lnt&tbs=qdr:h&sa=X&ved=0ahUKEwjcwvmQhc_1AhVPJbkGHRwkAhUQpwUIDw',\n",
       "  '/search?q=yahoo+finance+TSLA&ie=UTF-8&tbm=nws&source=lnt&tbs=qdr:d&sa=X&ved=0ahUKEwjcwvmQhc_1AhVPJbkGHRwkAhUQpwUIEA',\n",
       "  '/search?q=yahoo+finance+TSLA&ie=UTF-8&tbm=nws&source=lnt&tbs=qdr:w&sa=X&ved=0ahUKEwjcwvmQhc_1AhVPJbkGHRwkAhUQpwUIEQ',\n",
       "  '/search?q=yahoo+finance+TSLA&ie=UTF-8&tbm=nws&source=lnt&tbs=qdr:m&sa=X&ved=0ahUKEwjcwvmQhc_1AhVPJbkGHRwkAhUQpwUIEg',\n",
       "  '/search?q=yahoo+finance+TSLA&ie=UTF-8&tbm=nws&source=lnt&tbs=qdr:y&sa=X&ved=0ahUKEwjcwvmQhc_1AhVPJbkGHRwkAhUQpwUIEw',\n",
       "  '/search?q=yahoo+finance+TSLA&ie=UTF-8&tbm=nws&source=lnt&tbs=ar:1&sa=X&ved=0ahUKEwjcwvmQhc_1AhVPJbkGHRwkAhUQpwUIFA',\n",
       "  '/search?q=yahoo+finance+TSLA&ie=UTF-8&tbm=nws&source=lnt&tbs=sbd:1&sa=X&ved=0ahUKEwjcwvmQhc_1AhVPJbkGHRwkAhUQpwUIFg',\n",
       "  '/url?q=https://finance.yahoo.com/news/tesla-inc-moodys-upgrades-teslas-020806756.html&sa=U&ved=2ahUKEwjcwvmQhc_1AhVPJbkGHRwkAhUQxfQBegQIAxAB&usg=AOvVaw2fLdHx-X5EXzZunSzJcwm4',\n",
       "  '/url?q=https://finance.yahoo.com/news/tesla-inc-moodys-upgrades-teslas-020806756.html&sa=U&ved=2ahUKEwjcwvmQhc_1AhVPJbkGHRwkAhUQ0Y8FegQIAxAC&usg=AOvVaw1HcKgEBxUBe19UPZTCNnjy',\n",
       "  '/url?q=https://finance.yahoo.com/news/the-morning-after-panasonics-higher-capacity-tesla-battery-could-appear-next-year-121502013.html&sa=U&ved=2ahUKEwjcwvmQhc_1AhVPJbkGHRwkAhUQxfQBegQICBAB&usg=AOvVaw32zfDuq_M-uX2FOoIiXGWX',\n",
       "  '/url?q=https://finance.yahoo.com/news/the-morning-after-panasonics-higher-capacity-tesla-battery-could-appear-next-year-121502013.html&sa=U&ved=2ahUKEwjcwvmQhc_1AhVPJbkGHRwkAhUQ0Y8FegQICBAC&usg=AOvVaw3oXveufHd4RlhcIrEhjQS2',\n",
       "  '/url?q=https://finance.yahoo.com/news/bof-a-on-moderna-upgrading-to-neutral-rating-on-the-tesla-of-biotech-205837705.html&sa=U&ved=2ahUKEwjcwvmQhc_1AhVPJbkGHRwkAhUQxfQBegQICRAB&usg=AOvVaw0RXiFSfT9WMjiT8LDtAupH',\n",
       "  '/url?q=https://finance.yahoo.com/news/bof-a-on-moderna-upgrading-to-neutral-rating-on-the-tesla-of-biotech-205837705.html&sa=U&ved=2ahUKEwjcwvmQhc_1AhVPJbkGHRwkAhUQ0Y8FegQICRAC&usg=AOvVaw32NhLmj2vKzAM3LbhzHdOk',\n",
       "  '/url?q=https://finance.yahoo.com/news/tesla-model-s-plaid-lucid-air-drag-race-195013476.html&sa=U&ved=2ahUKEwjcwvmQhc_1AhVPJbkGHRwkAhUQxfQBegQIBxAB&usg=AOvVaw0x-T0eOviqks9QQR454bIq',\n",
       "  '/url?q=https://finance.yahoo.com/news/tesla-model-s-plaid-lucid-air-drag-race-195013476.html&sa=U&ved=2ahUKEwjcwvmQhc_1AhVPJbkGHRwkAhUQ0Y8FegQIBxAC&usg=AOvVaw1jJdqAW5vGdjEiv7TCTOqd',\n",
       "  '/url?q=https://finance.yahoo.com/news/tesla-abbott-labs-intel-earnings-163039281.html&sa=U&ved=2ahUKEwjcwvmQhc_1AhVPJbkGHRwkAhUQxfQBegQIBRAB&usg=AOvVaw245eg0YqEPc-lJ_N5agbOY',\n",
       "  '/url?q=https://finance.yahoo.com/news/tesla-abbott-labs-intel-earnings-163039281.html&sa=U&ved=2ahUKEwjcwvmQhc_1AhVPJbkGHRwkAhUQ0Y8FegQIBRAC&usg=AOvVaw2YbQRXH_svZz8XEjHiMnvg',\n",
       "  '/url?q=https://ca.finance.yahoo.com/news/ford-aims-tesla-connected-commercial-175615294.html&sa=U&ved=2ahUKEwjcwvmQhc_1AhVPJbkGHRwkAhUQxfQBegQIARAB&usg=AOvVaw0muIccu90069R-kXw7wTvv',\n",
       "  '/url?q=https://ca.finance.yahoo.com/news/ford-aims-tesla-connected-commercial-175615294.html&sa=U&ved=2ahUKEwjcwvmQhc_1AhVPJbkGHRwkAhUQ0Y8FegQIARAC&usg=AOvVaw1udcx5RpF1_if1dhzU3hhf',\n",
       "  '/url?q=https://finance.yahoo.com/news/zacks-analyst-blog-highlights-tesla-164404287.html&sa=U&ved=2ahUKEwjcwvmQhc_1AhVPJbkGHRwkAhUQxfQBegQIBBAB&usg=AOvVaw0nXn3MWJ9jRmvKLze1vVN7',\n",
       "  '/url?q=https://finance.yahoo.com/news/zacks-analyst-blog-highlights-tesla-164404287.html&sa=U&ved=2ahUKEwjcwvmQhc_1AhVPJbkGHRwkAhUQ0Y8FegQIBBAC&usg=AOvVaw2kn_0rnugPuFUXC3uwlqCY',\n",
       "  '/url?q=https://finance.yahoo.com/news/data-trek-on-why-big-tech-is-being-battered-despite-q-4-001820239.html&sa=U&ved=2ahUKEwjcwvmQhc_1AhVPJbkGHRwkAhUQxfQBegQIAhAB&usg=AOvVaw1kobv6B0uE97_sqd2Gkuvl',\n",
       "  '/url?q=https://finance.yahoo.com/news/data-trek-on-why-big-tech-is-being-battered-despite-q-4-001820239.html&sa=U&ved=2ahUKEwjcwvmQhc_1AhVPJbkGHRwkAhUQ0Y8FegQIAhAC&usg=AOvVaw16KN3iuT21DXtqZgfLrN24',\n",
       "  '/url?q=https://finance.yahoo.com/news/strategic-advisors-llc-buys-nvidia-023803584.html&sa=U&ved=2ahUKEwjcwvmQhc_1AhVPJbkGHRwkAhUQxfQBegQIABAB&usg=AOvVaw2Oc5QUt3HMDsepf9-nMd8-',\n",
       "  '/url?q=https://finance.yahoo.com/news/strategic-advisors-llc-buys-nvidia-023803584.html&sa=U&ved=2ahUKEwjcwvmQhc_1AhVPJbkGHRwkAhUQ0Y8FegQIABAC&usg=AOvVaw1IIMn_ZOxDbArfY055VGy7',\n",
       "  '/url?q=https://finance.yahoo.com/news/tesla-leads-the-biggest-transformation-to-the-auto-industry-since-the-1950-s-dan-ives-says-114718961.html&sa=U&ved=2ahUKEwjcwvmQhc_1AhVPJbkGHRwkAhUQxfQBegQIBhAB&usg=AOvVaw0by5M1lyxAso_991l44yxl',\n",
       "  '/url?q=https://finance.yahoo.com/news/tesla-leads-the-biggest-transformation-to-the-auto-industry-since-the-1950-s-dan-ives-says-114718961.html&sa=U&ved=2ahUKEwjcwvmQhc_1AhVPJbkGHRwkAhUQ0Y8FegQIBhAC&usg=AOvVaw2AWsqcIxglWspP6ZA1W-zS',\n",
       "  '/search?q=yahoo+finance+TSLA&ie=UTF-8&tbm=nws&ei=yQvxYZy6Ks_K5OUPnMiIqAE&start=10&sa=N',\n",
       "  '/url?q=https://support.google.com/websearch%3Fp%3Dws_settings_location%26hl%3Den-IN&sa=U&ved=0ahUKEwjcwvmQhc_1AhVPJbkGHRwkAhUQty4IVQ&usg=AOvVaw3bv-2FWJ98fIBm2twDi3rw',\n",
       "  '/url?q=https://accounts.google.com/ServiceLogin%3Fcontinue%3Dhttps://www.google.com/search%253Fq%253Dyahoo%252Bfinance%252BTSLA%2526tbm%253Dnws%26hl%3Den&sa=U&ved=0ahUKEwjcwvmQhc_1AhVPJbkGHRwkAhUQxs8CCFY&usg=AOvVaw3mNspWAckVHE1MEfXOVuVA',\n",
       "  'https://www.google.com/preferences?hl=en-IN&fg=1&sa=X&ved=0ahUKEwjcwvmQhc_1AhVPJbkGHRwkAhUQ5fUCCFc',\n",
       "  'https://policies.google.com/privacy?hl=en-IN&fg=1',\n",
       "  'https://policies.google.com/terms?hl=en-IN&fg=1'],\n",
       " 'BTC': ['/?sa=X&ved=0ahUKEwj54riRhc_1AhVAHbkGHe41CWEQOwgC',\n",
       "  '/?output=search&ie=UTF-8&tbm=nws&sa=X&ved=0ahUKEwj54riRhc_1AhVAHbkGHe41CWEQPAgE',\n",
       "  '/search?q=yahoo+finance+BTC&tbm=nws&ie=UTF-8&gbv=1&sei=ygvxYfnVLMC65OUP7uukiAY',\n",
       "  '/search?q=yahoo+finance+BTC&ie=UTF-8&source=lnms&sa=X&ved=0ahUKEwj54riRhc_1AhVAHbkGHe41CWEQ_AUIBygA',\n",
       "  '/search?q=yahoo+finance+BTC&ie=UTF-8&tbm=shop&source=lnms&sa=X&ved=0ahUKEwj54riRhc_1AhVAHbkGHe41CWEQ_AUICSgC',\n",
       "  '/search?q=yahoo+finance+BTC&ie=UTF-8&tbm=vid&source=lnms&sa=X&ved=0ahUKEwj54riRhc_1AhVAHbkGHe41CWEQ_AUICigD',\n",
       "  '/search?q=yahoo+finance+BTC&ie=UTF-8&tbm=isch&source=lnms&sa=X&ved=0ahUKEwj54riRhc_1AhVAHbkGHe41CWEQ_AUICygE',\n",
       "  'https://maps.google.com/maps?q=yahoo+finance+BTC&um=1&ie=UTF-8&sa=X&ved=0ahUKEwj54riRhc_1AhVAHbkGHe41CWEQ_AUIDCgF',\n",
       "  '/search?q=yahoo+finance+BTC&ie=UTF-8&tbm=bks&source=lnms&sa=X&ved=0ahUKEwj54riRhc_1AhVAHbkGHe41CWEQ_AUIDSgG',\n",
       "  '/advanced_search',\n",
       "  '/search?q=yahoo+finance+BTC&ie=UTF-8&tbm=nws&source=lnt&tbs=qdr:h&sa=X&ved=0ahUKEwj54riRhc_1AhVAHbkGHe41CWEQpwUIDw',\n",
       "  '/search?q=yahoo+finance+BTC&ie=UTF-8&tbm=nws&source=lnt&tbs=qdr:d&sa=X&ved=0ahUKEwj54riRhc_1AhVAHbkGHe41CWEQpwUIEA',\n",
       "  '/search?q=yahoo+finance+BTC&ie=UTF-8&tbm=nws&source=lnt&tbs=qdr:w&sa=X&ved=0ahUKEwj54riRhc_1AhVAHbkGHe41CWEQpwUIEQ',\n",
       "  '/search?q=yahoo+finance+BTC&ie=UTF-8&tbm=nws&source=lnt&tbs=qdr:m&sa=X&ved=0ahUKEwj54riRhc_1AhVAHbkGHe41CWEQpwUIEg',\n",
       "  '/search?q=yahoo+finance+BTC&ie=UTF-8&tbm=nws&source=lnt&tbs=qdr:y&sa=X&ved=0ahUKEwj54riRhc_1AhVAHbkGHe41CWEQpwUIEw',\n",
       "  '/search?q=yahoo+finance+BTC&ie=UTF-8&tbm=nws&source=lnt&tbs=ar:1&sa=X&ved=0ahUKEwj54riRhc_1AhVAHbkGHe41CWEQpwUIFA',\n",
       "  '/search?q=yahoo+finance+BTC&ie=UTF-8&tbm=nws&source=lnt&tbs=sbd:1&sa=X&ved=0ahUKEwj54riRhc_1AhVAHbkGHe41CWEQpwUIFg',\n",
       "  '/url?q=https://finance.yahoo.com/news/bitcoin-stages-recovery-but-at-least-one-analyst-sees-bear-case-of-14-k-215122313.html&sa=U&ved=2ahUKEwj54riRhc_1AhVAHbkGHe41CWEQxfQBegQIBhAB&usg=AOvVaw1jjSrG-Afgj7V-98BIvyJC',\n",
       "  '/url?q=https://finance.yahoo.com/news/bitcoin-stages-recovery-but-at-least-one-analyst-sees-bear-case-of-14-k-215122313.html&sa=U&ved=2ahUKEwj54riRhc_1AhVAHbkGHe41CWEQ0Y8FegQIBhAC&usg=AOvVaw09Ss1u9eh1YiTT2KFUIaf1',\n",
       "  '/url?q=https://uk.finance.yahoo.com/news/bitcoin-black-friday-price-crash-164809913.html&sa=U&ved=2ahUKEwj54riRhc_1AhVAHbkGHe41CWEQxfQBegQIBxAB&usg=AOvVaw0d2HgIyNEMIhGNix38oNFP',\n",
       "  '/url?q=https://uk.finance.yahoo.com/news/bitcoin-black-friday-price-crash-164809913.html&sa=U&ved=2ahUKEwj54riRhc_1AhVAHbkGHe41CWEQ0Y8FegQIBxAC&usg=AOvVaw30z2unFYwvFMTJaXdLfZyh',\n",
       "  '/url?q=https://ca.finance.yahoo.com/news/cryptoverse-teenage-bitcoin-throws-interest-061237683.html&sa=U&ved=2ahUKEwj54riRhc_1AhVAHbkGHe41CWEQxfQBegQICBAB&usg=AOvVaw1OndFYL91Me4E0ruMSppxQ',\n",
       "  '/url?q=https://ca.finance.yahoo.com/news/cryptoverse-teenage-bitcoin-throws-interest-061237683.html&sa=U&ved=2ahUKEwj54riRhc_1AhVAHbkGHe41CWEQ0Y8FegQICBAC&usg=AOvVaw1IuZuRYVxmUXBY_ioKcJjy',\n",
       "  '/url?q=https://finance.yahoo.com/news/bitcoin-rout-not-over-yet-as-risk-aversion-hammers-crypto-stocks-153559722.html&sa=U&ved=2ahUKEwj54riRhc_1AhVAHbkGHe41CWEQxfQBegQICRAB&usg=AOvVaw0K6vi5f70qt2MqUqAyHnWy',\n",
       "  '/url?q=https://finance.yahoo.com/news/bitcoin-rout-not-over-yet-as-risk-aversion-hammers-crypto-stocks-153559722.html&sa=U&ved=2ahUKEwj54riRhc_1AhVAHbkGHe41CWEQ0Y8FegQICRAC&usg=AOvVaw22aZTU3-7YLVdnNUXNj4T5',\n",
       "  '/url?q=https://finance.yahoo.com/news/bitcoin-stuck-between-powder-keg-of-volatility-impulse-to-buy-234557953.html&sa=U&ved=2ahUKEwj54riRhc_1AhVAHbkGHe41CWEQxfQBegQIBRAB&usg=AOvVaw34JcVjUHqIpuXh4oA3vpQF',\n",
       "  '/url?q=https://finance.yahoo.com/news/bitcoin-stuck-between-powder-keg-of-volatility-impulse-to-buy-234557953.html&sa=U&ved=2ahUKEwj54riRhc_1AhVAHbkGHe41CWEQ0Y8FegQIBRAC&usg=AOvVaw0veKneGURKDVOVuTAGX3BP',\n",
       "  '/url?q=https://au.finance.yahoo.com/news/bitcoin-plummeted-in-2022-why-012334481.html&sa=U&ved=2ahUKEwj54riRhc_1AhVAHbkGHe41CWEQxfQBegQIAhAB&usg=AOvVaw11fFGn0BcxsuTsdi97JkKH',\n",
       "  '/url?q=https://au.finance.yahoo.com/news/bitcoin-plummeted-in-2022-why-012334481.html&sa=U&ved=2ahUKEwj54riRhc_1AhVAHbkGHe41CWEQ0Y8FegQIAhAC&usg=AOvVaw2P4tjP_jvRu9NLIPHAt0rY',\n",
       "  '/url?q=https://finance.yahoo.com/news/itcoin-correlated-with-long-term-tech-stocks-coin-metrics-co-founder-213221755.html&sa=U&ved=2ahUKEwj54riRhc_1AhVAHbkGHe41CWEQxfQBegQIARAB&usg=AOvVaw3l6yi2W6auXxHKIwrhKkQX',\n",
       "  '/url?q=https://finance.yahoo.com/news/itcoin-correlated-with-long-term-tech-stocks-coin-metrics-co-founder-213221755.html&sa=U&ved=2ahUKEwj54riRhc_1AhVAHbkGHe41CWEQ0Y8FegQIARAC&usg=AOvVaw3caDZcw5-1OjLLQkkEHhQM',\n",
       "  '/url?q=https://finance.yahoo.com/news/bitcoin-tool-for-social-justice-ex-government-regulator-turned-crypto-adviser-123417764.html&sa=U&ved=2ahUKEwj54riRhc_1AhVAHbkGHe41CWEQxfQBegQIAxAB&usg=AOvVaw0cRNbZHRH27FS2dhhJ6qF8',\n",
       "  '/url?q=https://finance.yahoo.com/news/bitcoin-tool-for-social-justice-ex-government-regulator-turned-crypto-adviser-123417764.html&sa=U&ved=2ahUKEwj54riRhc_1AhVAHbkGHe41CWEQ0Y8FegQIAxAC&usg=AOvVaw2bo_F-YJCxjPIM_zHjDbP_',\n",
       "  '/url?q=https://finance.yahoo.com/news/bitcoin-ticks-up-but-crypto-braced-for-more-selling-as-powell-fed-turn-hawkish-112002508.html&sa=U&ved=2ahUKEwj54riRhc_1AhVAHbkGHe41CWEQxfQBegQIABAB&usg=AOvVaw0XXrEKDdAF3jjQV2FWJIv8',\n",
       "  '/url?q=https://finance.yahoo.com/news/bitcoin-ticks-up-but-crypto-braced-for-more-selling-as-powell-fed-turn-hawkish-112002508.html&sa=U&ved=2ahUKEwj54riRhc_1AhVAHbkGHe41CWEQ0Y8FegQIABAC&usg=AOvVaw3sEYYBThsYvxl4T72Q0iRF',\n",
       "  '/url?q=https://finance.yahoo.com/news/white-house-to-enter-the-fray-on-crypto-regulation-with-an-eye-on-illicit-flows-080056833.html&sa=U&ved=2ahUKEwj54riRhc_1AhVAHbkGHe41CWEQxfQBegQIBBAB&usg=AOvVaw1kZf6cV6RmMEJ8iV5OcFCE',\n",
       "  '/url?q=https://finance.yahoo.com/news/white-house-to-enter-the-fray-on-crypto-regulation-with-an-eye-on-illicit-flows-080056833.html&sa=U&ved=2ahUKEwj54riRhc_1AhVAHbkGHe41CWEQ0Y8FegQIBBAC&usg=AOvVaw1DDa2bCwMXeXDwrwreR8sX',\n",
       "  '/search?q=yahoo+finance+BTC&ie=UTF-8&tbm=nws&ei=ygvxYfnVLMC65OUP7uukiAY&start=10&sa=N',\n",
       "  '/url?q=https://support.google.com/websearch%3Fp%3Dws_settings_location%26hl%3Den-IN&sa=U&ved=0ahUKEwj54riRhc_1AhVAHbkGHe41CWEQty4IVQ&usg=AOvVaw0fCFh__C9s9MNnOHYUq_KC',\n",
       "  '/url?q=https://accounts.google.com/ServiceLogin%3Fcontinue%3Dhttps://www.google.com/search%253Fq%253Dyahoo%252Bfinance%252BBTC%2526tbm%253Dnws%26hl%3Den&sa=U&ved=0ahUKEwj54riRhc_1AhVAHbkGHe41CWEQxs8CCFY&usg=AOvVaw19L2te2eZUQsg0HJzjiERY',\n",
       "  'https://www.google.com/preferences?hl=en-IN&fg=1&sa=X&ved=0ahUKEwj54riRhc_1AhVAHbkGHe41CWEQ5fUCCFc',\n",
       "  'https://policies.google.com/privacy?hl=en-IN&fg=1',\n",
       "  'https://policies.google.com/terms?hl=en-IN&fg=1'],\n",
       " 'ETH': ['/?sa=X&ved=0ahUKEwjUmoqShc_1AhXfH7kGHQ0cBOQQOwgC',\n",
       "  '/?output=search&ie=UTF-8&tbm=nws&sa=X&ved=0ahUKEwjUmoqShc_1AhXfH7kGHQ0cBOQQPAgE',\n",
       "  '/search?q=yahoo+finance+ETH&tbm=nws&ie=UTF-8&gbv=1&sei=zAvxYdSEBN-_5OUPjbiQoA4',\n",
       "  '/search?q=yahoo+finance+ETH&ie=UTF-8&source=lnms&sa=X&ved=0ahUKEwjUmoqShc_1AhXfH7kGHQ0cBOQQ_AUIBygA',\n",
       "  '/search?q=yahoo+finance+ETH&ie=UTF-8&tbm=shop&source=lnms&sa=X&ved=0ahUKEwjUmoqShc_1AhXfH7kGHQ0cBOQQ_AUICSgC',\n",
       "  'https://maps.google.com/maps?q=yahoo+finance+ETH&um=1&ie=UTF-8&sa=X&ved=0ahUKEwjUmoqShc_1AhXfH7kGHQ0cBOQQ_AUICigD',\n",
       "  '/search?q=yahoo+finance+ETH&ie=UTF-8&tbm=isch&source=lnms&sa=X&ved=0ahUKEwjUmoqShc_1AhXfH7kGHQ0cBOQQ_AUICygE',\n",
       "  '/search?q=yahoo+finance+ETH&ie=UTF-8&tbm=vid&source=lnms&sa=X&ved=0ahUKEwjUmoqShc_1AhXfH7kGHQ0cBOQQ_AUIDCgF',\n",
       "  '/search?q=yahoo+finance+ETH&ie=UTF-8&tbm=bks&source=lnms&sa=X&ved=0ahUKEwjUmoqShc_1AhXfH7kGHQ0cBOQQ_AUIDSgG',\n",
       "  '/advanced_search',\n",
       "  '/search?q=yahoo+finance+ETH&ie=UTF-8&tbm=nws&source=lnt&tbs=qdr:h&sa=X&ved=0ahUKEwjUmoqShc_1AhXfH7kGHQ0cBOQQpwUIDw',\n",
       "  '/search?q=yahoo+finance+ETH&ie=UTF-8&tbm=nws&source=lnt&tbs=qdr:d&sa=X&ved=0ahUKEwjUmoqShc_1AhXfH7kGHQ0cBOQQpwUIEA',\n",
       "  '/search?q=yahoo+finance+ETH&ie=UTF-8&tbm=nws&source=lnt&tbs=qdr:w&sa=X&ved=0ahUKEwjUmoqShc_1AhXfH7kGHQ0cBOQQpwUIEQ',\n",
       "  '/search?q=yahoo+finance+ETH&ie=UTF-8&tbm=nws&source=lnt&tbs=qdr:m&sa=X&ved=0ahUKEwjUmoqShc_1AhXfH7kGHQ0cBOQQpwUIEg',\n",
       "  '/search?q=yahoo+finance+ETH&ie=UTF-8&tbm=nws&source=lnt&tbs=qdr:y&sa=X&ved=0ahUKEwjUmoqShc_1AhXfH7kGHQ0cBOQQpwUIEw',\n",
       "  '/search?q=yahoo+finance+ETH&ie=UTF-8&tbm=nws&source=lnt&tbs=ar:1&sa=X&ved=0ahUKEwjUmoqShc_1AhXfH7kGHQ0cBOQQpwUIFA',\n",
       "  '/search?q=yahoo+finance+ETH&ie=UTF-8&tbm=nws&source=lnt&tbs=sbd:1&sa=X&ved=0ahUKEwjUmoqShc_1AhXfH7kGHQ0cBOQQpwUIFg',\n",
       "  '/url?q=https://finance.yahoo.com/news/123-swap-platform-completed-seed-021400408.html&sa=U&ved=2ahUKEwjUmoqShc_1AhXfH7kGHQ0cBOQQxfQBegQIABAB&usg=AOvVaw391b7oOYP_5GX5vm5SxKqZ',\n",
       "  '/url?q=https://finance.yahoo.com/news/123-swap-platform-completed-seed-021400408.html&sa=U&ved=2ahUKEwjUmoqShc_1AhXfH7kGHQ0cBOQQ0Y8FegQIABAC&usg=AOvVaw2E-dintQKqW4QZcK-1UkZs',\n",
       "  '/url?q=https://ca.finance.yahoo.com/news/bitcoin-ethereum-2022-choose-131500322.html&sa=U&ved=2ahUKEwjUmoqShc_1AhXfH7kGHQ0cBOQQxfQBegQICBAB&usg=AOvVaw0-o7O3ZuCJepYeM_o-Zp1f',\n",
       "  '/url?q=https://ca.finance.yahoo.com/news/bitcoin-ethereum-2022-choose-131500322.html&sa=U&ved=2ahUKEwjUmoqShc_1AhXfH7kGHQ0cBOQQ0Y8FegQICBAC&usg=AOvVaw0nmIPGaumFa7zSYIQQByus',\n",
       "  '/url?q=https://finance.yahoo.com/news/ether-outperforms-bitcoin-rose-to-the-top-of-crowded-crypto-field-in-2021-212258272.html&sa=U&ved=2ahUKEwjUmoqShc_1AhXfH7kGHQ0cBOQQxfQBegQICRAB&usg=AOvVaw0NeqJpsQU9N7ejlzj-Y_uj',\n",
       "  '/url?q=https://finance.yahoo.com/news/ether-outperforms-bitcoin-rose-to-the-top-of-crowded-crypto-field-in-2021-212258272.html&sa=U&ved=2ahUKEwjUmoqShc_1AhXfH7kGHQ0cBOQQ0Y8FegQICRAC&usg=AOvVaw3EoBUyh8gGEaRY7oZWnZJ8',\n",
       "  '/url?q=https://finance.yahoo.com/news/white-house-to-enter-the-fray-on-crypto-regulation-with-an-eye-on-illicit-flows-080056833.html&sa=U&ved=2ahUKEwjUmoqShc_1AhXfH7kGHQ0cBOQQxfQBegQIBxAB&usg=AOvVaw2DDmVVbTo5I7ELD_WnuEXO',\n",
       "  '/url?q=https://finance.yahoo.com/news/white-house-to-enter-the-fray-on-crypto-regulation-with-an-eye-on-illicit-flows-080056833.html&sa=U&ved=2ahUKEwjUmoqShc_1AhXfH7kGHQ0cBOQQ0Y8FegQIBxAC&usg=AOvVaw2-gis-gc2j53dDDdTocrBG',\n",
       "  '/url?q=https://finance.yahoo.com/news/2022-ethereum-185233774.html&sa=U&ved=2ahUKEwjUmoqShc_1AhXfH7kGHQ0cBOQQxfQBegQIARAB&usg=AOvVaw1FmB15yRRkBNXXnCXLEjo3',\n",
       "  '/url?q=https://finance.yahoo.com/news/2022-ethereum-185233774.html&sa=U&ved=2ahUKEwjUmoqShc_1AhXfH7kGHQ0cBOQQ0Y8FegQIARAC&usg=AOvVaw05U-PqQLNkVbXU0Jsc1iUs',\n",
       "  '/url?q=https://finance.yahoo.com/news/bitcoin-rout-not-over-yet-as-risk-aversion-hammers-crypto-stocks-153559722.html&sa=U&ved=2ahUKEwjUmoqShc_1AhXfH7kGHQ0cBOQQxfQBegQIBBAB&usg=AOvVaw1wgmvtKWojFXcabGKWn7E0',\n",
       "  '/url?q=https://finance.yahoo.com/news/bitcoin-rout-not-over-yet-as-risk-aversion-hammers-crypto-stocks-153559722.html&sa=U&ved=2ahUKEwjUmoqShc_1AhXfH7kGHQ0cBOQQ0Y8FegQIBBAC&usg=AOvVaw2_L6X6w25cVNGgsIE_CPze',\n",
       "  '/url?q=https://finance.yahoo.com/video/crypto-ethereum-outshined-bitcoin-2021-152514754.html&sa=U&ved=2ahUKEwjUmoqShc_1AhXfH7kGHQ0cBOQQxfQBegQIBRAB&usg=AOvVaw2fReABxnBnrhtG0zea_-Pa',\n",
       "  '/url?q=https://finance.yahoo.com/video/crypto-ethereum-outshined-bitcoin-2021-152514754.html&sa=U&ved=2ahUKEwjUmoqShc_1AhXfH7kGHQ0cBOQQ0Y8FegQIBRAC&usg=AOvVaw3W5u09wLwWGfMKpqsdRVL-',\n",
       "  '/url?q=https://finance.yahoo.com/news/cryptocurrency-price-prediction-2022-130005664.html&sa=U&ved=2ahUKEwjUmoqShc_1AhXfH7kGHQ0cBOQQxfQBegQIAhAB&usg=AOvVaw28nU1bfkH6UJ8pjALxX4TN',\n",
       "  '/url?q=https://finance.yahoo.com/news/cryptocurrency-price-prediction-2022-130005664.html&sa=U&ved=2ahUKEwjUmoqShc_1AhXfH7kGHQ0cBOQQ0Y8FegQIAhAC&usg=AOvVaw1Qk8c3JL4Y-xf3WSO0rtru',\n",
       "  '/url?q=https://finance.yahoo.com/news/polygon-eip-1559-implementation-might-081737868.html&sa=U&ved=2ahUKEwjUmoqShc_1AhXfH7kGHQ0cBOQQxfQBegQIAxAB&usg=AOvVaw23doKral4oH-LDs4p-gCaJ',\n",
       "  '/url?q=https://finance.yahoo.com/news/polygon-eip-1559-implementation-might-081737868.html&sa=U&ved=2ahUKEwjUmoqShc_1AhXfH7kGHQ0cBOQQ0Y8FegQIAxAC&usg=AOvVaw3qKER8-Danjki50P8o2dhk',\n",
       "  '/url?q=https://finance.yahoo.com/news/ethereum-transformed-2022-123000499.html&sa=U&ved=2ahUKEwjUmoqShc_1AhXfH7kGHQ0cBOQQxfQBegQIBhAB&usg=AOvVaw2zg3QVRzG4Jo_cTHFlBVtf',\n",
       "  '/url?q=https://finance.yahoo.com/news/ethereum-transformed-2022-123000499.html&sa=U&ved=2ahUKEwjUmoqShc_1AhXfH7kGHQ0cBOQQ0Y8FegQIBhAC&usg=AOvVaw1hYTbaNIHZE_RI8k9NSNHP',\n",
       "  '/search?q=yahoo+finance+ETH&ie=UTF-8&tbm=nws&ei=zAvxYdSEBN-_5OUPjbiQoA4&start=10&sa=N',\n",
       "  '/url?q=https://support.google.com/websearch%3Fp%3Dws_settings_location%26hl%3Den-IN&sa=U&ved=0ahUKEwjUmoqShc_1AhXfH7kGHQ0cBOQQty4IVQ&usg=AOvVaw1Urudd4XHz-VMQzaOrIB8_',\n",
       "  '/url?q=https://accounts.google.com/ServiceLogin%3Fcontinue%3Dhttps://www.google.com/search%253Fq%253Dyahoo%252Bfinance%252BETH%2526tbm%253Dnws%26hl%3Den&sa=U&ved=0ahUKEwjUmoqShc_1AhXfH7kGHQ0cBOQQxs8CCFY&usg=AOvVaw2rZtBj0HX4F6kHpjTiYf54',\n",
       "  'https://www.google.com/preferences?hl=en-IN&fg=1&sa=X&ved=0ahUKEwjUmoqShc_1AhXfH7kGHQ0cBOQQ5fUCCFc',\n",
       "  'https://policies.google.com/privacy?hl=en-IN&fg=1',\n",
       "  'https://policies.google.com/terms?hl=en-IN&fg=1']}"
      ]
     },
     "execution_count": 37,
     "metadata": {},
     "output_type": "execute_result"
    }
   ],
   "source": [
    "raw_urls = {ticker:search_for_stock_news_urls(ticker) for ticker in monitored_tickers}\n",
    "raw_urls"
   ]
  },
  {
   "cell_type": "markdown",
   "id": "75ccaae8",
   "metadata": {},
   "source": [
    "### Strip unwanted urls"
   ]
  },
  {
   "cell_type": "code",
   "execution_count": 38,
   "id": "5623e45b",
   "metadata": {},
   "outputs": [],
   "source": [
    "import re"
   ]
  },
  {
   "cell_type": "code",
   "execution_count": 39,
   "id": "fefb4be6",
   "metadata": {},
   "outputs": [],
   "source": [
    "exclude_list = ['maps', 'policies', 'preferences', 'accounts', 'support']"
   ]
  },
  {
   "cell_type": "code",
   "execution_count": 42,
   "id": "595fcae0",
   "metadata": {},
   "outputs": [],
   "source": [
    "def strip_unwanted_urls(urls, exclude_list):\n",
    "    val=[]\n",
    "    for url in urls:\n",
    "        if 'https://' in url and not any(exclude_word in url for exclude_word in exclude_list):\n",
    "            res = re.findall(r'(https?://\\S+)', url)[0].split('&')[0]\n",
    "            val.append(res)\n",
    "    return list(set(val))"
   ]
  },
  {
   "cell_type": "code",
   "execution_count": 43,
   "id": "36d66369",
   "metadata": {},
   "outputs": [],
   "source": [
    "cleaned_urls = {ticker:strip_unwanted_urls(raw_urls[ticker], exclude_list) for ticker in monitored_tickers}"
   ]
  },
  {
   "cell_type": "code",
   "execution_count": 44,
   "id": "a3b87a88",
   "metadata": {
    "collapsed": true
   },
   "outputs": [
    {
     "data": {
      "text/plain": [
       "{'GOOGLE': ['https://finance.yahoo.com/news/google-kills-off-floc-replaces-130050952.html',\n",
       "  'https://finance.yahoo.com/news/google-offers-replacement-advertising-cookies-130850396.html',\n",
       "  'https://finance.yahoo.com/news/deepmind-ai-mustafa-suleyman-google-greylock-partners-152049755.html',\n",
       "  'https://finance.yahoo.com/news/tunisian-enterprise-ai-startup-instadeep-120357959.html',\n",
       "  'https://finance.yahoo.com/news/data-trek-on-why-big-tech-is-being-battered-despite-q-4-001820239.html',\n",
       "  'https://ca.finance.yahoo.com/news/daily-crunch-google-dumps-floc-231354351.html',\n",
       "  'https://finance.yahoo.com/news/google-ar-headset-leak-173237029.html',\n",
       "  'https://finance.yahoo.com/news/microsoft-slowing-cloud-growth-casts-212133658.html',\n",
       "  'https://finance.yahoo.com/news/google-chromecast-with-google-tv-2-boreal-181018441.html',\n",
       "  'https://ca.finance.yahoo.com/news/google-cannot-escape-location-privacy-193641130.html'],\n",
       " 'TSLA': ['https://ca.finance.yahoo.com/news/ford-aims-tesla-connected-commercial-175615294.html',\n",
       "  'https://finance.yahoo.com/news/bof-a-on-moderna-upgrading-to-neutral-rating-on-the-tesla-of-biotech-205837705.html',\n",
       "  'https://finance.yahoo.com/news/tesla-abbott-labs-intel-earnings-163039281.html',\n",
       "  'https://finance.yahoo.com/news/data-trek-on-why-big-tech-is-being-battered-despite-q-4-001820239.html',\n",
       "  'https://finance.yahoo.com/news/tesla-inc-moodys-upgrades-teslas-020806756.html',\n",
       "  'https://finance.yahoo.com/news/the-morning-after-panasonics-higher-capacity-tesla-battery-could-appear-next-year-121502013.html',\n",
       "  'https://finance.yahoo.com/news/strategic-advisors-llc-buys-nvidia-023803584.html',\n",
       "  'https://finance.yahoo.com/news/zacks-analyst-blog-highlights-tesla-164404287.html',\n",
       "  'https://finance.yahoo.com/news/tesla-leads-the-biggest-transformation-to-the-auto-industry-since-the-1950-s-dan-ives-says-114718961.html',\n",
       "  'https://finance.yahoo.com/news/tesla-model-s-plaid-lucid-air-drag-race-195013476.html'],\n",
       " 'BTC': ['https://finance.yahoo.com/news/bitcoin-tool-for-social-justice-ex-government-regulator-turned-crypto-adviser-123417764.html',\n",
       "  'https://finance.yahoo.com/news/white-house-to-enter-the-fray-on-crypto-regulation-with-an-eye-on-illicit-flows-080056833.html',\n",
       "  'https://uk.finance.yahoo.com/news/bitcoin-black-friday-price-crash-164809913.html',\n",
       "  'https://ca.finance.yahoo.com/news/cryptoverse-teenage-bitcoin-throws-interest-061237683.html',\n",
       "  'https://finance.yahoo.com/news/itcoin-correlated-with-long-term-tech-stocks-coin-metrics-co-founder-213221755.html',\n",
       "  'https://finance.yahoo.com/news/bitcoin-stuck-between-powder-keg-of-volatility-impulse-to-buy-234557953.html',\n",
       "  'https://finance.yahoo.com/news/bitcoin-stages-recovery-but-at-least-one-analyst-sees-bear-case-of-14-k-215122313.html',\n",
       "  'https://finance.yahoo.com/news/bitcoin-ticks-up-but-crypto-braced-for-more-selling-as-powell-fed-turn-hawkish-112002508.html',\n",
       "  'https://au.finance.yahoo.com/news/bitcoin-plummeted-in-2022-why-012334481.html',\n",
       "  'https://finance.yahoo.com/news/bitcoin-rout-not-over-yet-as-risk-aversion-hammers-crypto-stocks-153559722.html'],\n",
       " 'ETH': ['https://finance.yahoo.com/news/white-house-to-enter-the-fray-on-crypto-regulation-with-an-eye-on-illicit-flows-080056833.html',\n",
       "  'https://finance.yahoo.com/news/cryptocurrency-price-prediction-2022-130005664.html',\n",
       "  'https://finance.yahoo.com/news/123-swap-platform-completed-seed-021400408.html',\n",
       "  'https://finance.yahoo.com/news/polygon-eip-1559-implementation-might-081737868.html',\n",
       "  'https://finance.yahoo.com/news/ethereum-transformed-2022-123000499.html',\n",
       "  'https://ca.finance.yahoo.com/news/bitcoin-ethereum-2022-choose-131500322.html',\n",
       "  'https://finance.yahoo.com/video/crypto-ethereum-outshined-bitcoin-2021-152514754.html',\n",
       "  'https://finance.yahoo.com/news/bitcoin-rout-not-over-yet-as-risk-aversion-hammers-crypto-stocks-153559722.html',\n",
       "  'https://finance.yahoo.com/news/2022-ethereum-185233774.html',\n",
       "  'https://finance.yahoo.com/news/ether-outperforms-bitcoin-rose-to-the-top-of-crowded-crypto-field-in-2021-212258272.html']}"
      ]
     },
     "execution_count": 44,
     "metadata": {},
     "output_type": "execute_result"
    }
   ],
   "source": [
    "cleaned_urls"
   ]
  },
  {
   "cell_type": "markdown",
   "id": "8d0a0027",
   "metadata": {},
   "source": [
    "### Search and scapre cleaned urls "
   ]
  },
  {
   "cell_type": "code",
   "execution_count": 76,
   "id": "7e69ce1d",
   "metadata": {},
   "outputs": [],
   "source": [
    "def scrape_and_process(URLs):\n",
    "    ARTICLES = []\n",
    "    for url in URLs: \n",
    "        r = requests.get(url)\n",
    "        soup = BeautifulSoup(r.text, 'html.parser')\n",
    "        paragraphs = soup.find_all('p')\n",
    "        text = [paragraph.text for paragraph in paragraphs]\n",
    "        words = ' '.join(text).split(' ')[:230]\n",
    "        ARTICLE = ' '.join(words)\n",
    "        ARTICLES.append(ARTICLE)\n",
    "    return ARTICLES"
   ]
  },
  {
   "cell_type": "code",
   "execution_count": 77,
   "id": "24f0b669",
   "metadata": {},
   "outputs": [
    {
     "data": {
      "text/plain": [
       "{'GOOGLE': [\"FLoC (Federated Learning of Cohorts), Google's controversial project for replacing cookies for interest-based advertising by instead grouping users into groups of users with comparable interests, is dead. In its place, Google today announced a new proposal: Topics. The idea here is that your browser will learn about your interests as you move around the web. It'll keep data for the last three weeks of your browsing history and as of now, Google is restricting the number of topics to 300, with plans to extend this over time. Google notes that these topics will not include any sensitive categories like gender or race. To figure out your interests, Google categorizes the sites you visit based on one of these 300 topics. For sites that it hasn't categorized before, a lightweight machine learning algorithm in the browser will take over and provide an estimated topic based on the name of the domain. Image Credits: Google When you hit upon a site that supports the Topics API for ad purposes, the browser will share three topics you are interested in -- one for each of the three last weeks -- selected randomly from your top five topics of each week. The site can then share this with its advertising partners to decide which ads to show you. Ideally, this would make for a more private method of deciding which ad to show you\",\n",
       "  \" By Paresh Dave (Reuters) - Alphabet Inc's Google on Tuesday announced its second try at enabling advertisers to buy ads based on users' browsing interests without having to rely on what it has described as privacy-invasive tracking cookies. Google wants to block tracking cookies in its Chrome web browser by the end of next year, which would prevent advertising companies from logging the websites someone is visiting. Advertisers, website owners and privacy groups have all raised alarms over the planned transition, and complaints have led antitrust authorities in the United States, United Kingdom and elsewhere to watch Google's plans closely. Online ad buyers and sellers are weighing successors to the cookies. Options include tracking users by asking for their email addresses to access websites or adopting new technologies that Google, Mozilla and other browser makers could build into their software. Google's initial solution, known as Federated Learning of Cohorts, or FLoC, aimed to constantly group people into big baskets designed by algorithms based on websites users visited in the last week. Advertisers could show ads to a preferred basket, but they would not know the individuals in it or what interest they shared in common. But in tests last year, some advertisers found FLoC less effective than cookies for choosing users to target and the system carried the risk of exposing an individual's browsing history, Google product director Vinay\",\n",
       "  'Mustafa Suleyman, a co-founder of artificial intelligence research company DeepMind, has left Google to join venture capital firm Greylock Partners. Suleyman has brought to an end an eight-year run at Google, where he was most recently the company’s vice president of AI product management and policy. He joined Google when it bought DeepMind in 2014 and became the latter’s head of applied AI. Suleyman was reportedly placed on administrative leave in 2019 following allegations that he bullied employees. Suleyman, who moved to Google at the end of that year, said on a podcast with Greylock partner Reid Hoffman this week that he \"really screwed up\" and that “I remain very sorry about the impact that that caused people and the hurt that people felt there.” As The New York Times notes, Suleyman was among those who resisted Google\\'s AI endeavors with the US Department of Defense. Google ended up backing out of that project, though in November it said it was making a bid for the Pentagon\\'s Joint Warfighting Cloud Capability cloud contract. DeepMind may be best known for its AI systems that can compete with the best human players of certain games. Google has also employed DeepMind\\'s knowhow to improve arrival time estimates in Google Maps, track wildlife and detect breast cancer. Investors looking to add growth stocks to their portfolios this month shouldn\\'t miss these names. Upsetting signs',\n",
       "  'A recent survey carried out by CNBC reported that 81% of executives worldwide say AI will play a prominent and critical role in how their businesses operate this year. Companies are phasing from the first generation of AI, which deals with pattern, text and image recognition, to decision-making AI, which helps them make timely decisions in complex spaces. InstaDeep, a Tunis and London-based enterprise AI startup that creates decision-making systems for solving real-world problems, has raised $100 million in Series B financing led by Alpha Intelligence Capital and CDIB. BioNTech (the company behind Pfizer’s COVID-19 vaccine), Chimera Abu Dhabi, Deutsche Bahn’s DB Digital Ventures, Google, G42 and Synergie participated in the round. InstaDeep was founded by Karim Beguir and Zohra Slim in 2014. The Tunisian startup, headquartered in London with offices in Paris, Tunis, Lagos, Dubai and Cape Town, uses advanced machine learning techniques to bring AI to applications within an enterprise environment. Beguir, the chief executive officer, on a call with TechCrunch, said the eight-year-old company’s AI and machine learning solves an array of challenges. They can range from a large shipping company finding ways to efficiently transport thousands of containers to a railway station, with more than 30,000 kilometres of railway, trying to automate scheduling for 10,000 trains. Other examples are the design of advanced therapeutics with silicon and routing components on a printed circuit board. These types',\n",
       "  \" Stretched valuations, coupled with the threat of rising interest rates, have landed technology stocks into trouble to start the new year. And although Microsoft (MSFT) on Tuesday bucked a trend of lackluster fourth quarter results, DataTrek Research thinks a couple of factors are sending the popular sector into a downward spiral, which aren't likely to be offset by encouraging earnings. That could spell bad news for Meta (FB), Google (GOOG), Tesla (TSLA) and Apple (AAPL): the last two report earnings this week. “The upshot here is that the Street’s earnings estimates for Apple, Microsoft, Google, and Tesla are all the same or higher as a month ago while Amazon (AMZN) and Facebook’s estimates are only very modestly lower,” the firm told clients on Tuesday. The value of technology stocks is their future earnings profile. As a grim sell-off drives down lofty valuations and discount future earnings ahead of Federal Reserve rate hikes, the present value of those stocks falls further — and faster — than the broader market, DataTrek noted. For example, Apple, which reached a major milestone earlier this year by hitting a market cap of $3 trillion, is set to release its fiscal 2022 first-quarter results after the bell on Thursday. Investors are hoping for a solid performance from the company, but shares have been going downhill even as there's been no material change to the iPhone\",\n",
       "  'Sign up for the Canada Weekly Brief and get all you need to know delivered right to your inbox To get a roundup of TechCrunch’s biggest and most important stories delivered to your inbox every day at 3 p.m. PST, subscribe here. Hello and welcome to Daily Crunch for January 25, 2022! Today our cup overflows with news. There’s simply too much going on to cover in a single newsletter, so I’ve tried to fit as much as possible below. Some sections are condensed, but you’ll see why. No more delay, the news! – Alex Google proposes Topics to replace cookies: The American search giant’s idea of building Federated Learning of Cohorts, or FLoCs is over. The company is instead proposing Topics. What are they? Per our own Frederic Lardinois, the idea behind Topics is that “your browser will learn about your interests as you move around the web,” storing around three weeks of data, focused on 300 different thematic groupings. This is a big deal, if it comes to be. Nvidia could walk away from ARM deal: With regulatory progress slow, the huge chip deal between Nvidia and ARM could be off. Will ARM instead go public? What does SoftBank think of the changing regulatory winds? We’ll find out. VCs fell in love with Europe last year: While the global venture capital market was hectic last year, few regions',\n",
       "  'Google might have ditched its Daydream VR headset years ago, but that doesn\\'t mean it gave up on headsets altogether. The Verge sources claim Google is developing an augmented reality headset, nicknamed Project Iris, that it wants to release in 2024. The standalone wearable would use a custom Google processor, outward-facing tracking cameras and run Android, although a custom OS is a possibility given job listings. It might also rely on cloud-based rendering to overcome the processing power limitations of a headset. Clay Bavor, the manager for the Project Starline 3D telepresence booth (also said due for 2024), is understood to be overseeing the highly secretive project. The tipsters also said the AR headset team included Google Assistant creator Scott Huffman, ARCore manager Shahram Izadi and Mark Lucovsky, the former leader of Meta\\'s in-house OS development. The Pixel division is also believed to be involved in some hardware work. We\\'ve asked Google for comment, although CEO Sundar Pichai hinted in October that AR was a \"major area of investment\" for the company. The headset is supposedly very early in development without a clear market strategy, suggesting that the 2024 target isn\\'t firm. The headset might seem unexpected from a company burned by its initial take on an AR wearable. It\\'s not a shock given the evolving landscape, however. Apple is widely rumored to be creating a mixed reality headset, while',\n",
       "  ' (Bloomberg) -- Microsoft Corp. shares rose in late trading, reversing an earlier decline, after the software giant gave a forecast that reassured investors the company’s Azure cloud-computing business still has potential to drive growth. Most Read from Bloomberg Stock Rebound Fails and Futures Plunge on Earnings: Markets Wrap Nvidia Quietly Prepares to Abandon $40 Billion Arm Bid Mark Zuckerberg’s Stablecoin Ambitions Unravel With Diem Sale Talks Stocks Storm Back From 4% Rout to Close Higher: Markets Wrap This Red-Hot Housing Market Is Betting Interest Rates Will Never Rise Earlier, Microsoft had reported quarterly sales that topped $50 billion for the first time and profit that exceeded analysts’ estimates, fueled by cloud, gaming and Windows software. Still, Azure revenue decelerated from recent quarters, sending the stock tumbling more than 5%. Then, on a conference call, the company forecast the closely watched Azure revenue growth rate would pick up in the fiscal third quarter from the second, excluding the impact of currency fluctuations. The stock rose as much as 3.9%. Despite the earlier concerns, the Azure forecast will be “front and center tomorrow morning,” Dan Ives, an analyst at Wedbush, said. “This will help calm Street tech growth worries.” Investors on Tuesday initially focused on the 46% increase at the company’s cloud unit, which fell short of the rosiest estimates and lagged behind gains for the two prior periods. Chief Executive',\n",
       "  'Google tends to release new Chromecast models only sparingly (you can still buy a years-old 1080p unit today), but it may be more aggressive with the Google TV model. 9to5Google sources claim the company is already developing a new Chromecast with Google TV. Documentation and code sleuthing have reportedly revealed the codename \"Boreal,\" while 9to5 understood the Android TV media hub would launch later in 2022. The purported leak doesn\\'t mention specifications, although newer processing power with broader video support might be necessary. XDA and others have heard Android TV will require AV1 video format support after March 31st, and that\\'s conspicuously absent on the existing Chromecast with Google TV. The company might also use the opportunity to address common complaints, such as the modest storage. Provided the leak is accurate, the question is whether or not this is a straightforward replacement for the existing Chromecast or a higher-powered separate model. Given that the existing Chromecast already supports 4K HDR, though, a replacement seems more likely. It\\'s clear any changes would be substantial enough to warrant a new internal nickname — Google doesn\\'t typically hand out names for minor revisions. Google has asked the High Court of Australia to overturn a 2020 ruling it warns could have a “devastating” effect on the wider internet. That lines up with when Google I/O typically takes place. Software giant Microsoft has earned plaudits',\n",
       "  'Sign up for the Canada Weekly Brief and get all you need to know delivered right to your inbox By Paresh Dave (Reuters) -Allegations that Alphabet Inc\\'s Google deceived users with unclear smartphone location tracking settings should be weighed by a jury, an Arizona judge ruled on Tuesday, refusing to toss out a lawsuit brought by the state\\'s attorney general. Google had sought summary judgment to get the case against it thrown out at an early stage. It had argued that the state had failed to show that its consumer fraud law could apply and noted that the company\\'s disclosures about privacy settings has been clarified since the case was brought nearly two years ago. The decision comes a day after attorneys general in Washington state, Indiana, Texas and the District of Columbia sued Google on similar grounds as the Arizona case. Under Judge Timothy Thomason\\'s ruling in Arizona, the state can proceed with claims that Google may have engaged in deceptive practices in failing to disclose its location tracking capabilities to phone buyers and app users. But he rejected a third argument that Google deceives users by taking location data to help sell ads. Google in a blog post https://blog.google/outreach-initiatives/public-policy/how-google-puts-you-control-your-location-data on Tuesday applauded the dismissal of what it called the state\\'s central argument. \"We will continue to focus on providing simple, easy-to-understand privacy settings to our users, and will'],\n",
       " 'TSLA': ['Coinbase shares plunge to record low By Joseph White DETROIT (Reuters) - Ford Motor Co Chief Executive Jim Farley won applause from Wall Street by increasing the production target for the automaker\\'s electric F-150 to 150,000 a year, more than three times the original number. Now, Farley wants investors and commercial vehicle customers to pay more attention to the software and services Ford wants to sell with those trucks, as well as to the company\\'s electric Transit vans and its portfolio of combustion engine commercial vehicles. At an event in Sonoma, California, this week, Farley and other Ford executives are rolling out more details of their Ford Pro commercial vehicle strategy - and setting ambitious goals. \"This is a first move by Ford to really start to scale and commit serious resources to digital software and services-based revenue,\" Farley told Reuters. Ford Pro is a standalone unit created last May https://www.reuters.com/business/sustainable-business/ford-boosts-ev-spending-aims-have-40-volume-all-electric-by-2030-2021-05-26 to focus exclusively on commercial and government customers. Ford has set a goal to increase Ford Pro\\'s annual revenue to $45 billion by 2025, up 67% from 2019. Farley said Ford Pro is paving the way for Ford to expand digital service offerings to retail customers. The U.S. and European commercial vehicle markets are fragmented, Farley said. Ford can use its position as the leading commercial vehicle brand in the United States and Europe to be a leader in',\n",
       "  ' Bank of America (BAC) upgraded its rating on pharma and biotech company Moderna (MRNA) from Underperform to Neutral along giving it a new price target of $180 (up from $135), according to a recent BofA Global Research report. BofA cited a “more reasonable valuation” that has come about as being the main reason for the upgrade. “We’ve been bearish on MRNA shares for some time based on what we thought were overly optimistic Street assumptions on [COVID-19] boosters,” the report reads. “As valuation has compressed (last 4 months: -65%; NBI (^NBI) index: -21%) and as we move from pandemic to endemic stages, we are focusing more on the pipeline beyond Spikevax.” Moderna has seen immense growth from its IPO in December 2018, since becoming a household name as one of the leading global producers of a vaccine against COVID-19. The company develops medical treatments and pharmaceuticals leveraging its research and technology in the area of messenger RNA, or mRNA. As of late, Moderna’s stock has slumped, falling over 60% since a September 2021 peak of nearly $450 and trading a little over $150 today. Industry experts cited Moderna not being able to deliver upon the high expectations of the market as being one of the main reasons its stock has seen such a significant pullback. However, although many analysts may have previously suggested that Moderna’s stock narrative justified its',\n",
       "  'By Dhirendra Tripathi Investing.com -- Stocks continued their tumultuous trading on Tuesday, falling and then recovering as they did in the previous session while the Federal Reserve started its two-day policy meeting. A number of earnings reports beat expectations, including IBM (NYSE:IBM) and 3M, but that had a muted effect on stocks. Microsoft (NASDAQ:MSFT) reports after the closing bell and Tesla and Intel report on Wednesday. Tech stocks have had a particularly bad run, with the Nasdaq falling into correction territory this year. Rising rates – investors expect four Fed rate hikes this year – diminish the value of future earnings for growth stocks. Two years of stimulus from the Fed has put a fire under the tech sector, lifting shares of big companies like Apple (NASDAQ:AAPL) to record highs and record market valuations, but with the Fed starting to remove that stimulus the prospects seemed to dim. Nasdaq has had its worst start to a year since 1980, Reuters reported. Another factor weighing on stocks is the tensions between the U.S. and Russia over the Ukraine situation. Investors are fleeing risk assets such as stocks and cryptocurrencies and seeking safe haven investments such as gold. Here are three things that could affect markets tomorrow: 1. Tesla earnings Tesla Inc (NASDAQ:TSLA)’s fourth-quarter revenue is seen at a record $16.88 billion with profit per share coming in at $2.25, according to',\n",
       "  \" Stretched valuations, coupled with the threat of rising interest rates, have landed technology stocks into trouble to start the new year. And although Microsoft (MSFT) on Tuesday bucked a trend of lackluster fourth quarter results, DataTrek Research thinks a couple of factors are sending the popular sector into a downward spiral, which aren't likely to be offset by encouraging earnings. That could spell bad news for Meta (FB), Google (GOOG), Tesla (TSLA) and Apple (AAPL): the last two report earnings this week. “The upshot here is that the Street’s earnings estimates for Apple, Microsoft, Google, and Tesla are all the same or higher as a month ago while Amazon (AMZN) and Facebook’s estimates are only very modestly lower,” the firm told clients on Tuesday. The value of technology stocks is their future earnings profile. As a grim sell-off drives down lofty valuations and discount future earnings ahead of Federal Reserve rate hikes, the present value of those stocks falls further — and faster — than the broader market, DataTrek noted. For example, Apple, which reached a major milestone earlier this year by hitting a market cap of $3 trillion, is set to release its fiscal 2022 first-quarter results after the bell on Thursday. Investors are hoping for a solid performance from the company, but shares have been going downhill even as there's been no material change to the iPhone\",\n",
       "  ' Rating Action: Moody\\'s upgrades Tesla\\'s corporate family rating to Ba1; outlook positiveGlobal Credit Research - 24 Jan 2022New York, January 24, 2022 -- Moody\\'s Investors Service (\"Moody\\'s\") upgraded the corporate family rating of Tesla, Inc. (\"Tesla\") to Ba1 from Ba3, and the probability of default rating to Ba1-PD from Ba3-PD. The outlook remains positive. The SGL-1 speculative grade liquidity rating was unchanged.The rating upgrade and positive outlook reflect Moody\\'s expectation that Tesla will maintain its position as the leading manufacturer of battery electric vehicles, continue to increase its scale rapidly and improve its profitability notably. Upgrades: ..Issuer: Tesla, Inc. .... Corporate Family Rating, Upgraded to Ba1 from Ba3.... Probability of Default Rating, Upgraded to Ba1-PD from Ba3-PD Outlook Actions: ..Issuer: Tesla, Inc. ....Outlook, Remains Positive RATINGS RATIONALE The Ba1 corporate family rating reflects Moody\\'s view that Tesla will maintain its position as the leading manufacturer of battery electric vehicles with a swiftly expanding presence in the US, Europe, and China. Moody\\'s anticipates that Tesla will deliver nearly 1.4 million vehicles in 2022, up from approximately 936,000 in 2021. Considerable investments in new production facilities in Berlin and Austin enable the steep increase in vehicle deliveries, along with an increase in production capacity in its existing plants in Fremont and Shanghai. To date, Tesla\\'s product offering remains narrowly reliant on primarily two models, however.Tesla\\'s growing scale, regional production facilities and',\n",
       "  \"Panasonic’s relationship with Tesla has been a successful one. Last year, the Japanese electronics company was able to spin its $30 million stake in Tesla into $3.6 billion, but the team-up continues. A higher-capacity next-gen battery for Tesla vehicles could go into production next year, boosting EV ranges by over 15 percent.\\xa0\\xa0 Although the battery is said to be twice as big as previous versions, it may have a fivefold increase in energy capacity. Panasonic is reportedly investing around 80 billion yen ($704 million) on new equipment to produce the 4680 cell — just a fraction of that windfall. The new cell is also apparently cheaper to produce, meaning it could well affect the pricing on future Teslas — in a good way. — Mat Smith GOG's New Year Sale includes deals on 'Cyberpunk 2077' and 'The Witcher 3' Microsoft finally updates the original Surface Duo to Android 11 The James Webb Space Telescope arrives at its final orbit Washington DC's AG sues Google for 'deceiving users and invading their privacy' Engadget Deals: Google's Nest Hub Max is down to $169 for today only Engadget Deals: Sony's WH-XB910N ANC headphones are 49 percent off in Amazon's one-day sale Google is reportedly developing a new Chromecast aimed at folks who haven't yet splurged on a 4K TV. According to Protocol, the low-end device will offer a maximum stream resolution of 1080p.\",\n",
       "  ' New York, NY, based Investment company Strategic Advisors LLC (Current Portfolio) buys NVIDIA Corp, Tesla Inc, Amazon.com Inc, Alphabet Inc, Johnson & Johnson, sells Constellation Brands Inc, DraftKings Inc, American Eagle Outfitters Inc, ARK Genomic Revolution ETF, Bristol-Myers Squibb Co during the 3-months ended 2021Q4, according to the most recent filings of the investment company, Strategic Advisors LLC. As of 2021Q4, Strategic Advisors LLC owns 194 stocks with a total value of $703 million. These are the details of the buys and sells. New Purchases: TEAM, ISRG, ADSK, FE, IBM, SE, U, WY, ICE, WFCPL.PFD, NEE, VIG, BACPL.PFD, ED, BIGZ, LIT, IWF, TJX, SCHV, AMAT, Added Positions: NVDA, TSLA, AAPL, AMZN, GOOGL, JNJ, SHOP, SPY, TWLO, FB, PEP, HD, KO, DOCU, CVX, DUK, DTE, D, MSFT, SNOW, AMGN, SWK, MRK, EMR, ARKK, GS, ENB, QQQ, ABNB, PFE, PG, RBLX, AEP, MRVL, VEEV, DIS, CRM, UL, PLTR, SPOT, NFLX, ABT, MDT, XLF, ABBV, SQ, TMO, ETN, UNP, CAT, T, IWB, HOOD, JPM, V, LULU, XLY, GM, ADBE, F, YUM, UNH, MCK, AVGO, UPS, SBUX, QCOM, MET, EL, NOW, VMW, TSM, LOW, DHR, BA, Reduced Positions: ARKG, ARKF, SCHB, MRNA, ADX, DBEF, XLI, LHX, VZ, CMCSA, VO, LMT, SCHG, PAVE, WM, ICLN, DAL, IHI, IJR, XOM, SPHQ, XLP, XLV, MXI, SCHF, HACK, VTI, XLC, AMD, CFG, XME, INTC, APD, TFC, BRK.B, COST, CCI, DD, EW, FDX, HON, PSX, J, JBLU, MCD,',\n",
       "  \" Chicago, IL – January 24, 2022 – Zacks.com announces the list of stocks featured in the Analyst Blog. Every day the Zacks Equity Research analysts discuss the latest news and events impacting stocks and the financial markets. Stocks recently featured in the blog include: Tesla Inc. TSLA, Steel Dynamics Inc. STLD, United Rentals Inc. URI, Freeport-McMoRan Inc. FCX and Vertex Pharmaceuticals Inc. VRTX. Wall Street is facing severe volatility this week as market participants are keeping their fingers crossed for a hawkish Fed in the near term. However, the fourth-quarter 2021 earnings season is gathering pace with better-than-expected results so far. Earnings results are expected to stay strong this time around. Six large-cap stocks are poised to beat on fourth-quarter earnings results next week. These stocks carry a favorable Zacks Rank and a possible earnings beat is likely to make them attractive to investors in the near future. These are - Tesla Inc., Steel Dynamics Inc., United Rentals Inc., Freeport-McMoRan Inc. and Vertex Pharmaceuticals Inc. As of Jan 19, 43 S&P 500 companies have reported fourth-quarter 2021 results. Total earnings of these companies are up 18.3% year over year on 11.7% higher revenues with 86% beating EPS estimates and 79.1% surpassing revenue estimates. Total fourth-quarter earnings of the market's benchmark — the S&P 500 Index — are projected to climb 21.5% from the same period last year on 12%\",\n",
       "  ' Tesla (TSLA) strong rally this week points to more gains ahead, according to Wedbush, with the U.S. electric vehicle maker primed to transform the auto industry after ending 2021 on a strong note. Better-than expected fourth quarter delivery figures spurred investors to remain bullish on Tesla\\'s stock, while the electric vehicle (EV) maker’s new Gigafactory in Austin, Texas preps for production this month.\\xa0 “We\\'re seeing, it\\'s a $5 trillion market opportunity in terms of EV and it\\'s the biggest transformation to the auto industry since the 1950s,\" Dan Ives, Wedbush’s senior equity analyst, told Yahoo Finance on Tuesday. However, Tesla\\'s bull case going forward \"continues to be expanding supply,” he added. “Based on all of our work in and around Austin, we think starting next week we\\'re going to get into the early stages of what I believe are cars rolling off the plant,” Ives said. While there’s been no formal announcement of the Austin factory opening, all eyes are there and on Berlin, opportunities some analysts view could expand capacity for the EV manufacturer. Wall Street is expecting an update on the company’s conference call later on this month. “When you look at Austin in particular, it\\'s been very smooth in terms of the build out,” Ives said. “Hiring has been very strong over the last few months, and that\\'s why Musk has made such a bet on',\n",
       "  'Now that the Lucid Air is a practical reality, there\\'s a looming question: how well does it fare in a drag race against the other well-known electric luxury sedan, Tesla\\'s Model S Plaid? You now have a better idea. DragTimes has shared a long-teased video of a quarter-mile faceoff between the Air and Model S Plaid, and the outcome is at once expected but still full of insights. It won\\'t shock you to hear the Model S Plaid wins three of the four runs, including one with a rolling start. It has a shorter claimed 0-60MPH time (1.99 seconds versus 2.5), and its lighter curb weight (4,828lbs versus about 5,200lbs), helps offset the horsepower deficiency. The Tesla didn\\'t have its drag strip prep mode enabled, either. If you\\'re fortunate enough to cross-shop these EVs, the Model S is still your pick for raw acceleration. The Lucid Air still holds up well, though, and it even won a race when the Model S Plaid\\'s launch mode wasn\\'t engaged. That added power still matters, to put it another way — and this is worth considering if you\\'re more interested in green light races (where a launch mode likely won\\'t be an option) than drag strips. Lucid also pointed out that you can precondition the Air for better straight-line performance, and that it\\'s currently focused more on \"luxury and efficiency\" than speed. The'],\n",
       " 'BTC': [' Bitcoin (BTC-USD), the premiere digital currency first introduced in 2009, raised eyebrows this week when it dropped below $40,000 for the first time in three months, stoking fears of uncontrolled volatility. But by Wednesday, the coin’s price had risen back to $43,000 and many financial leaders are predicting Bitcoin to surpass $75,000 before the year ends. The quick recovery proved to many crypto enthusiasts that Bitcoin is here to stay. Now, some investors are highlighting Bitcoin for the opportunity it presents at leveling the playing field, particularly for Black Americans, many of whom have been disadvantaged by traditional banks for decades. “Bitcoin is absolutely a tool for social justice,” Charlene Fadirepo, a former audit manager at the Federal Reserve Board of Governors turned Bitcoin adviser, told Yahoo Finance. “If you think about Black Americans, we believe that Bitcoin allows [us] to build generational wealth. And not just Black Americans … Latino Americans, the LGBT communities and Indigenous communities. It allows communities to build wealth in communities that have been left out of the discriminatory banking system that we have today.” Fadirepo called 2021 a “breakout year” for Bitcoin, noting that major banks had had high-net-worth clients invest in it and large corporations have begun accumulating Bitcoin and holding onto it as an asset. At least seven major banks, including CitiGroup, JP Morgan & Chase and Morgan Stanley, have made',\n",
       "  ' The Biden administration is preparing to release a government-wide strategy to regulate cryptocurrencies as early as February, with the market in the throes of a deep rout linked to uncertainty over the Federal Reserve’s fight against inflation. According to an administration official, the forthcoming National Security Council (NSC) memorandum will task federal agencies to assess the risks and opportunities that crypto poses, and delve into the details of a central bank digital currency. The move will also review the impact of digital assets on financial stability, and normalizing regulations for crypto with other countries. The action, first reported by Bloomberg News, comes as agencies across the government examine new rules for crypto. Last fall, the Biden administration released recommendations proposing that only banks be allowed to issue stablecoins. Digital coins have been battered by the market’s risk aversion. At its weakest levels on Monday, Bitcoin (BTC-USD) was off 50% from an all-time high near $69,000, as cryptocurrencies got clobbered amidst investor angst over the Fed’s interest rate hikes, and Washington policymakers mulling regulation of the sector. Senator Cynthia Lummis (R-WY), one of bitcoin’s most vocal advocates on Capitol Hill, is expected to introduce a bill on regulating crypto that aims to fully integrate digital assets into the financial system. Her legislation would give guidance on which assets belong in which asset class and offer up new rules on taxing',\n",
       "  'How $14bn in cryptocurrency was stolen using hacking tools  A sudden price crash followed by several days of steady losses have pushed bitcoin to its lowest level in six months, down more than 50 per cent from the all-time high it experienced in November. The abrupt downturn has renewed fears of a so-called ‘Crypto Winter’, with some analysts warning that it could be years before bitcoin and the broader market fully recovers. Follow our live coverage of the crypto market As is usually the case with major movements in the crypto market, the latest price collapse can be attributed to various factors, including a crackdown on crypto operations in Kazakhstan and fears of an outright ban in Russia. But the main cause of the slump appears to be a plunge in the stock market amid concerns of a potential hike in interest rates by the US Federal Reserve. “Investors are maintaining a conservative stance in line with the highly anticipated US Federal Open Market Committee (FOMC) on Tuesday,” Alexander Mamasidiov, co-founder of the mobile digital bank MinePlex, tells The Independent. “With the committee likely to signal its exact plans for the interest rate increase, many investors in the digital currency ecosystem are likely to start betting on more safe assets, thereby pulling funds away from crypto. Since the growth trend is now highly correlated with the stock market, any',\n",
       "  'By Lisa Pauline Mattackal and Medha Singh (Reuters) - Bitcoin is growing up. The original cryptocurrency turns 13 this year and is showing signs of becoming a more mature financial asset - but watch out for the teenage tantrums. This drift towards the mainstream, driven by the big bets of institutional investors, has seen bitcoin become sensitive to interest rates and fuelled a sell-off in the coin this month as investors braced for a hawkish Federal Reserve policy meeting. The cryptocurrency, born in 2009, was still on the fringes of finance during the Fed\\'s previous tightening cycle, from 2016 to 2019, and was barely correlated with the stock market. Times have changed. Bitcoin has been positively correlated with the S&P 500 index since early 2020, according to Refinitiv data, meaning they broadly move up and down together. Their correlation coefficient has risen to 0.41 now from 0.1 in September, where zero means no correlation and 1 implies perfectly synchronised movement. By contrast, that coefficient was just 0.01 in 2017-2019, according to an International Monetary Fund analysis published this month. \"Now that bitcoin is not entirely held by early adopters, it\\'s sitting in a 60/40 type portfolio,\" said Ben McMillan, chief investment officer of Arizona-based IDX Digital Assets, referring to the institutional strategy of allocating 60% of a portfolio to relatively risky equities and 40% towards bonds. \"It\\'s not surprising that',\n",
       "  \" Bitcoin’s (BTC-USD) performance may be heavily correlated with risk assets like long-term tech stocks, according to an industry expert. “Now we have a non-zero correlation between Bitcoin and risk assets, in particular long duration tech stocks, things like that,” said Nic Carter, a partner at Castle Island Ventures and a co-founder of Coin Metrics in a recent Yahoo Finance Live segment. “And that's the flip side of Bitcoin and other cryptocurrencies being financialized and being incorporated into the mainstream financial apparatus: you're exposed to the behavior of more mainstream investors.” Bitcoin continued falling this week, yet still has stayed afloat above the precipitous “death cross” threshold — a bearish indicator occurring when the 50-day moving average drops below the 200-day moving average. At the time of writing, Bitcoin hovered around $42,000, down about 10% in the last month and more than 35% from it's all-time highs. Similarly, tech stocks have faltered within the past few months. Macroeconomic issues have had a hand in dampening prospects for risk assets to begin the year, as inflation concerns dominate national financial headlines. Last month’s Consumer Price Index report measured inflation of 7%, the highest level since the early 1980s. The Federal Reserve has told the public that it would commence with a more hawkish monetary policy to curtail rampant inflation in 2022, which could mean two, three, or even four rate hikes.\",\n",
       "  ' Are Bitcoin\\'s (BTC-USD) best days behind it? It depends on who\\'s asked. For most of January, the digital coin has floated within a narrow range of $40,000 to $48,000, and well below last year\\'s record highs after a brutal late year sell-off. Investors think the relatively stable trading band masks the risk of more wild swings triggered by a short squeeze, but the jury is still out on whether Bitcoin has set a base at current levels.\\xa0 Cryptocurrencies have been highly correlated with risk-sensitive assets, falling in sympathy with volatile Wall Street stocks: in Wednesday\\'s session, the Nasdaq Composite hit correction territory and dragged digital tokens lower, with Bitcoin pinned below $42,000.\\xa0 However, bulls remain convinced that the currency has more upside than down.\\xa0 “This is now a very resilient asset class,” LMAX Group CEO David Mercer told Yahoo Finance Live last week. “This sell off is to be expected in what is still quite a thinly traded and small asset class within wider capital market.\" Even if Bitcoin trades back toward $30,000, however, \"just the sheer weight of institutional money that\\'s coming, and if you speak to anyone, every banker, every asset manager has a strategy for crypto. Medium to long-term, you should just see the price pop from here.\" The Federal Reserve\\'s widely telegraphed plans to hike interest rates to ward off inflation haven\\'t helped. With the',\n",
       "  \" The new year has been upon us for less than a month, but the Great Crypto Crash of 2022 has already caused a lot of investors pain. The risk aversion dogging Wall Street has infected cryptocurrencies, resulting in a dramatic sell-off in digital coins that yanked Bitcoin (BTC-USD) below $34,000. While the token recouped some of those losses, most analysts think there's more downside left to probe, especially with crypto's growing correlation with other risk-on assets. Like stocks, Bitcoin's short-term outlook is being determined by a Federal Reserve that's taken a decisive turn toward fighting inflation — heightening fears of higher interest rates — and away from loose monetary policy that boosts cryptocurrencies.\\xa0 One thing that Bitcoin still has going for it: a yearly return of more than 11% as of Tuesday that's more favorable than the current 7% rate of consumer inflation — the hottest in decades. That puts it in rare company; bonds, gold, commodities and real estate are also touted as legitimate hedges of inflation. Even at its brief but bearish moment below $34,000, the cryptocurrency functioned as protection against soaring inflation, a thesis that isn't quite accepted as truth but is compelling nonetheless, especially for developing economies with limited access to financial markets. History repeats itself: BTC below $14,000 Jon Wolfenbarger, CEO and Founder of Bull and Bear Profits, who previously told Yahoo Finance that\",\n",
       "  ' The new year has not been kind to cryptocurrencies, which rose on Wednesday despite about a week of selling that briefly drove Bitcoin below $40,000. A jittery market has begun 2022 on a sour note, with a suddenly hawkish Federal Reserve and the Omicron wave of COVID-19 infections making investors risk-averse. Meanwhile, Bitcoin set a new low at $39,893.62 — having swooned by more than 40% since its November peak. Bitcoin has shed over 8% at its weakest levels this week, while smaller tokens like Ethereum, Solana, Avalanche and Terra have fallen even harder. All have clawed back within the last day. Despite Wednesday\\'s rebound, it\\'s far too early to call a trend reversal in the sell-off given trading volume on major crypto exchanges, Yuya Hasegawa, an analyst with Tokyo-based crypto exchange Bitbank, told Yahoo Finance this week. After clearing the hurdle of Fed Chair Jerome Powell\\'s confirmation hearing for a second term, investors are nervously anticipating inflation data that will shape sentiment in the near term, with crypto continuing to trade almost lock-step with technology stocks. Bitcoin\\'s price range for the rest of the week should range between $40,000 and $48,000, Hasegawa said — but admitted that \"it certainly is not a time for optimism in the short run.\"\\xa0 The start of a rate hike campaign, which threatens to withdraw the liquidity and tame the inflation that have',\n",
       "  'The start of 2022 has not been kind to cryptos. Bitcoin’s decline since its November high has wiped out more than US$570 billion in market value, while roughly US$1.17 trillion has been lost from the crypto market as a whole.\\xa0 This is after Goldman Sachs said Bitcoin could pass US$100,000 if it replaced gold as a store of value, with many other experts also predicting Bitcoin would reach the $100k milestone in 2022. Also read: 2 cryptos that could make great long-term investments Also read: The top 5 cryptocurrencies to keep your eye on in 2022 Also read: Bitcoin, Ethereum, Dogecoin: What does 2022 hold for cryptos Mike McGlone, senior commodity strategist at Bloomberg, was convinced Bitcoin’s transition to digital gold would propel it to all-time highs in 2022. So far, we are yet to see any kind of growth. So, what\\'s going on? Bitcoin\\'s (BTC-USD) price is down 19 per cent in the past seven days - the cryptocurrency\\'s worst weekly performance since May 2021, when fears of China\\'s renewed crackdown on cryptocurrency trading and mining sent the market tumbling. To add fuel to the fire, tweets by Tesla CEO Elon Musk focused public attention on the Bitcoin blockchain network\\'s potential environmental harms. The price plunge over the past week appears \"emotionally charged,\" according to Katie Stockton, founder of analysis firm Fairlead Strategies. \"Because shakeouts are common, we would',\n",
       "  \" Bitcoin (BTC-USD) plunged by over 10% to below $40,000 on Friday, with the rest of the cryptocurrency market following suit as risk aversion created a downdraft for markets, ahead of the Federal Reserve’s widely telegraphed plans to raise interest rates. With Russia's move to ban crypto assets lighting the fuse of the latest plunge, Bitcoin's price moves have become closely linked to technology shares, which have slumped on rate hike fears. On Friday, the Nasdaq tumbled deeper into correction territory, after Netflix (NFLX) surprised investors with weaker-than-expected subscriber growth. Bitcoin has been “hit by another wave of risk aversion in the markets,” said Oanda analyst Craig Erlam, sinking below a key level of technical resistance at $40,000, where bulls and bears have fought for days. Separately, cryptocurrency exchange Kraken set its bear case for Bitcoin at $26,300. In its 2022 cryptocurrency market intelligence report, Kraken said the crypto market as a whole isn't expected to perform as well this year compared to last, when Bitcoin rocketed to a record at over $67,000. Ethereum (ETH-USD), one of the hottest digital coin trades that have soared in popularity thanks to the non-fungible token (NFT) boom, tumbled more than 12% and now trades below $3,000. Other smart contract layer-1 tokens like Cardano (ADA-USD), Terra (LUNA1-USD), Polkadot (DOT-USD), and Solana (SOL1-USD) all swooned by double-digits in intraday trading. “More rates hikes is generally\"],\n",
       " 'ETH': [' The Biden administration is preparing to release a government-wide strategy to regulate cryptocurrencies as early as February, with the market in the throes of a deep rout linked to uncertainty over the Federal Reserve’s fight against inflation. According to an administration official, the forthcoming National Security Council (NSC) memorandum will task federal agencies to assess the risks and opportunities that crypto poses, and delve into the details of a central bank digital currency. The move will also review the impact of digital assets on financial stability, and normalizing regulations for crypto with other countries. The action, first reported by Bloomberg News, comes as agencies across the government examine new rules for crypto. Last fall, the Biden administration released recommendations proposing that only banks be allowed to issue stablecoins. Digital coins have been battered by the market’s risk aversion. At its weakest levels on Monday, Bitcoin (BTC-USD) was off 50% from an all-time high near $69,000, as cryptocurrencies got clobbered amidst investor angst over the Fed’s interest rate hikes, and Washington policymakers mulling regulation of the sector. Senator Cynthia Lummis (R-WY), one of bitcoin’s most vocal advocates on Capitol Hill, is expected to introduce a bill on regulating crypto that aims to fully integrate digital assets into the financial system. Her legislation would give guidance on which assets belong in which asset class and offer up new rules on taxing',\n",
       "  'During the last ten years, we have been witnessing massive changes in the cryptocurrency sector. Bitcoin, for example, went from being an interesting experiment for a mainstream investor portfolio mainstay to a new asset class and digital gold. Several factors support higher Bitcoin prices, including better acceptance by traditional companies and the rising demand from Bitcoin ETFs. Experts say Bitcoin has the possibility of topping $100,000 by the end of 2023 but some analysts argue that this goal could be reached already by the end of the first quarter of 2022. Several others are still cautious to choose a specific date or year and expect Bitcoin to not reach more than $70,000 by the end of 2022. Carol Alexander, professor of finance at Sussex University, said she expects Bitcoin to tank to as low as $10,000 in 2022, virtually wiping out all of its gains in the past year and a half. Ethereum also generated its momentum throughout 2021 and it is important to recognise how its price value jumped after the ETH 2.0 upgrade was announced to be launched. This upgrade project is expected to be continued in 2022 as well, which analysts claim is one of the major factors that will lead to an ETH price jump – up to $6,000 by the end of 2022. Billionaire investor Mark Cuban recently said he sees more potential for the',\n",
       "  '123swap and Harmony are collaborating to develop a truly decentralized cross-chain applications. Lithuania, Vilnius, Jan. 25, 2022 (GLOBE NEWSWIRE) -- Harmony one and 123swap platform is announcing their collaboration. In this venture, Harmony is integrating into the non-custodial, cross-chain, and decentralized framework of 123swap. For the bright future of DeFi, leaders of both industries are agreed upon collaboration to accelerate the developmental process of truly decentralized cross-chain applications. The Harmony one’s unbeatable ecosystem of several projects and applications is combined with the decentralized, innovatory and non-custodial framework of the 123swap platform. Harmony one and its several projects now easily use the power of cross-chain technology; with the help of this technology, it will be in the state of developing new values and using cases for its clients. 123 swap platform has completed its seed round and generated 210k; now, it is in the private sale phase, growing quickly. Next Step for 123swap 123swap platform is adding Harmony one, Fantom, Polygon, Ethereum, Binance Smart Chain, and Avalanche blockchains into its cross-chain architecture. It has already added several blockchains; soon in the future, 123swap will add several other blockchains, including Solana, Cardano, Heco Eco chain, KCC chain, Shiden Network, Gate chain, Okex chain, Moonriver. 123swap platform is cross-chain DeFi which is growing at its fastest rate, and we add 1-2 blockchains every week. Working of 123swap The cross-chain framework of 123swap has',\n",
       "  ' Through this upgrade, partial transaction fees are permanently burned, reducing the circulating ETH supply. A similar upgrade will affect the Polygon network, potentially making MATIC a deflationary token. The upgrade of Ethereum to EIP-1559 has some exciting consequences. A partial network fee burning mechanism is a great way to reduce the circulating supply of tokens on the network. Unlike Bitcoin, Ethereum has no “hard cap,” even though it has block reward reductions for miners. Moreover, once the transition to proof-of-stake occurs, that reward reduction schedule will remain in effect. Ethereum enabled this upgrade through the London hard fork in the summer of 2021. As a result, network enthusiasts now benefit from better gas price predictability — although transactions can still be rather expensive — and network fee burning. More specifically, the network upgrade has burned over 1.58 million Ether, or over $4.5 billion. Although this has caused the ETH supply to flatten a bit, it has not triggered a deflationary effect yet. Before the deflationary effect can become a reality, the network rewards will need to drop further. Another option is having the network process even more transactions – and subsequently, burning more fees — although Ethereum has been running at near-full capacity for some time. Better scaling will be required, which will occur through sharding in the next upgrade. There is no date for that upgrade today, though,',\n",
       "  ' With 2021 winding down and 2022 hopefully being the year of the Merge, I wanted to do a deeper dive into five of the top things to expect with Ethereum’s impending transition to proof-of-stake. The Merge itself will not be as initially glamorous as many market participants and outsiders may believe. However, the underlying improvements and the foundation it sets will allow Ethereum to onboard millions of users without sacrificing decentralization. Lower energy consumption – Changing Ethereum’s consensus layer to proof-of-stake rids the network of miners and replaces them with validators. Under proof-of-work, Ethereum requires miners to compete for hash power by consuming electricity. By using randomness to assign block production, proof-of-stake is able to run with significantly lower energy consumption. The Ethereum Foundation predicts that after the Merge the network will use at least 99.95% less energy than it does in its current state. Deflationary ether – An Ethereum research report modeled the impact the combination of EIP 1559 and proof-of-stake will have on ether’s circulating supply. The transaction fee burn combined with lower rewards and ether locked for validating will drive the circulating supply equilibrium down to between 27.3 and 49.5 million ETH. For comparison, the current supply is sitting at 118 million ETH and is still slightly inflationary after the addition of EIP 1559. Same execution layer – Ethereum’s current execution layer will be ported over',\n",
       "  'Consumer confidence slips, while spending conditions hold strength Written by Adam Othman at The Motley Fool Canada 2021 was a fantastic year for cryptocurrencies. With many Canadians learning how to start investing during the pandemic, the cryptocurrency industry also saw a significant influx of money from retail and institutional investors, driving the speculative industry to greater heights. Many of the top cryptocurrencies posted impressive growth due to the rising interest in this space. The choice between Bitcoin (CRYPTO:BTC) or Ethereum (CRYPTO:ETH) has been one of the biggest debates in the crypto industry for several years. Bitcoin has remained at the top in the industry, being the first cryptocurrency and the asset that paved the way for thousands of cryptocurrencies over the years. Ethereum is the second-largest cryptocurrency after Bitcoin, and it has plenty of room to cover before it can catch up with Bitcoin. The second-largest cryptocurrency has to see considerable growth to surpass the world’s top cryptocurrency. It might seem impossible for Ethereum to beat Bitcoin to those bullish on Bitcoin, but ETH’s growth rate has outpaced that of BTC in recent years. Today, I will discuss why Ethereum could oust Bitcoin as the top crypto soon. One of the most significant challenges plaguing Bitcoin and the broader cryptocurrency industry is the energy-intensive proof-of-work protocol that maintains the blockchain network and validates transactions. Ethereum also began operating with the',\n",
       "  'Thank you for your patience. Our engineers are working quickly to resolve the issue.',\n",
       "  \" Bitcoin (BTC-USD) plunged by over 10% to below $40,000 on Friday, with the rest of the cryptocurrency market following suit as risk aversion created a downdraft for markets, ahead of the Federal Reserve’s widely telegraphed plans to raise interest rates. With Russia's move to ban crypto assets lighting the fuse of the latest plunge, Bitcoin's price moves have become closely linked to technology shares, which have slumped on rate hike fears. On Friday, the Nasdaq tumbled deeper into correction territory, after Netflix (NFLX) surprised investors with weaker-than-expected subscriber growth. Bitcoin has been “hit by another wave of risk aversion in the markets,” said Oanda analyst Craig Erlam, sinking below a key level of technical resistance at $40,000, where bulls and bears have fought for days. Separately, cryptocurrency exchange Kraken set its bear case for Bitcoin at $26,300. In its 2022 cryptocurrency market intelligence report, Kraken said the crypto market as a whole isn't expected to perform as well this year compared to last, when Bitcoin rocketed to a record at over $67,000. Ethereum (ETH-USD), one of the hottest digital coin trades that have soared in popularity thanks to the non-fungible token (NFT) boom, tumbled more than 12% and now trades below $3,000. Other smart contract layer-1 tokens like Cardano (ADA-USD), Terra (LUNA1-USD), Polkadot (DOT-USD), and Solana (SOL1-USD) all swooned by double-digits in intraday trading. “More rates hikes is generally\",\n",
       "  ' By Season 13, most TV shows have exhausted all but the most absurd plotlines. Like long-running soap operas, it can be hard to remember who’s mad at whom and why. In the meme-induced fog of propaganda between Bitcoin maximalists and Ethereum boosters, it might be hard to keep track of the big themes, but I believe two overarching ones will shape the world of blockchain in the coming year. Paul Brody is EY’s global blockchain leader and a CoinDesk columnist. First and foremost, 2022 is all about Ethereum. Just about everything innovative and important happening in the world of blockchain right now is happening in the Ethereum ecosystem. I see three key trends driving growth in the Ethereum ecosystem in the coming year. First, decentralized autonomous organizations (DAOs) represent the future of how communities, missions and enterprises are converging in a single format. While DAOs have been around for a while, I see 2022 as the year in which they start to take center stage as a preferred format for building new entities. This will also be a critical year in which DAO governance will mature, as people get more comfortable exercising their voting power with stakes and delegating their voting power to those who are experts on particular topics. In the long run, this may well kick off a shareholder revolution in traditional markets as well. Read more:',\n",
       "  ' A year filled with highs and lows for cryptocurrency is ending with surprising winners — neither of which are Bitcoin (BTC-USD), Dogecoin (DOGE-USD) and Shiba Inu (SHIB-INU), the three digital coins that grabbed most of the headlines in 2021. Ether (ETH-USD) was one of the year\\'s biggest winners, more than quadrupling Bitcoin as an investment. Despite heavy investor buzz and new exchange-traded funds, the leading cryptocurrency spiked to a fresh record near $69,000 — only to retreat in dramatic fashion this month, and is currently languishing below $50,000.\\xa0 As of Friday, Bitcoin has added over 60% year to date, and ETH is up 410%, according to Yahoo Finance/Coinbase data. \"Ultimately, I do think there\\'s a little bit of a sentiment letdown right now in cryptocurrency,\" DailyFX analyst Chris Vecchio told Yahoo Finance on Friday. \"I\\'d be very surprised if Dogecoin and Shiba Inu have a good year unless someone like Elon Musk is pumping them on Twitter.\" Meanwhile, several smaller cryptocurrencies are fueling a new generation of blockchain protocols, challenging Ether. Cardano\\'s native cryptocurrency, ADA (ADA-USD) jumped a whopping 657%, and the price of Solana (SOL1-USD) leapt over 9,258.2%, according to Yahoo Finance/Coinbase data. Meanwhile, Polygon (MATIC-USD) and Terra (LUNA-USD) both eclipsed SOL with staggering price gains topping 13,000% each. As the cryptocurrency ether fuels Ethereum, each of these less known cryptocurrencies offers something similar for their own protocols,']}"
      ]
     },
     "execution_count": 77,
     "metadata": {},
     "output_type": "execute_result"
    }
   ],
   "source": [
    "articles = {ticker:scrape_and_process(cleaned_urls[ticker]) for ticker in monitored_tickers}\n",
    "articles"
   ]
  },
  {
   "cell_type": "code",
   "execution_count": 78,
   "id": "11dbe747",
   "metadata": {},
   "outputs": [
    {
     "data": {
      "text/plain": [
       "4"
      ]
     },
     "execution_count": 78,
     "metadata": {},
     "output_type": "execute_result"
    }
   ],
   "source": [
    "len(articles)"
   ]
  },
  {
   "cell_type": "markdown",
   "id": "900c0012",
   "metadata": {},
   "source": [
    "### Summarize all articles"
   ]
  },
  {
   "cell_type": "code",
   "execution_count": 79,
   "id": "cc49ddea",
   "metadata": {},
   "outputs": [],
   "source": [
    "def summarize(articles):\n",
    "    summaries=[]\n",
    "    for article in articles:\n",
    "        input_ids = tokenizer.encode(article, return_tensors='tf')\n",
    "        output = tmodel.generate(input_ids, max_length=50, num_beams=4, early_stopping=True)\n",
    "        summary = tokenizer.decode(output[0], skip_special_tokens=True)\n",
    "        summaries.append(summary)\n",
    "    return summaries"
   ]
  },
  {
   "cell_type": "code",
   "execution_count": 80,
   "id": "03ba0ce4",
   "metadata": {},
   "outputs": [
    {
     "data": {
      "text/plain": [
       "{'GOOGLE': ['New proposal is for your browser to learn about your interests.',\n",
       "  \"FLoC would let advertisers show ads based on users' browsing habits.\",\n",
       "  'Suleyman was most recently vice president of AI product management.',\n",
       "  'Some of the most prominent AI companies in the world are based in Africa.',\n",
       "  'Earnings season is in full swing, with some big names set to report. Tesla, Microsoft and Google all due to report on Thursday',\n",
       "  'Nvidia proposes replacing FLoC with Topics. VCs fell in love with Europe last year',\n",
       "  'Developer sources say Google is developing a custom processor.',\n",
       "  'Fiscal third-quarter profit beats analysts’ estimates. Revenue growth seen picking up from recent quarters',\n",
       "  \"Site claims to have leaked code for a new Chromecast. Company hasn't confirmed or denied the model is in development\",\n",
       "  'Google had argued privacy settings should be dismissed. Arizona is not the first to bring such a case'],\n",
       " 'TSLA': ['Farley wants to sell more electric vehicles, pay more attention to digital.',\n",
       "  'Moderna’s stock is trading near all-time highs. Company’s lead drug is in late-stage study for lung cancer',\n",
       "  'Tesla, IBM and others due to report earnings on Thursday. Investors cautious ahead of U.S.-China trade talks',\n",
       "  'Earnings season is in full swing, with some big names set to report. Tesla, Microsoft and Google all due to report on Thursday',\n",
       "  \"Moody's has upgraded Tesla's corporate family rating to Ba1 from Ba1, outlook positive.\",\n",
       "  'Deal of the day: Tesla’s next-gen battery could be bigger and cheaper.',\n",
       "  'Purchases and sales details are provided by New York Strategic Advisors.',\n",
       "  'Earnings season is under way with more than half of the companies reporting.',\n",
       "  'Analyst sees opportunity to transform industry. ‘We’re going to get into a $5 trillion bet,’ Ives says',\n",
       "  'Plaid Air claims three straight wins in a quarter-mile faceoff. Tesla Model S also wins in straight-line drag races'],\n",
       " 'BTC': ['Digital currency is ‘a tool for social justice,’ adviser says. Bitcoin is ‘a generational asset,’ says Charlene Fadire',\n",
       "  'Government to release strategy on crypto regulation early next year. Several federal agencies have expressed concern over the asset class',\n",
       "  'Largest cryptocurrency has fallen more than 50 per cent from all-time high. ‘Cryptocurrency is likely to start pulling away from assets,’ analyst says',\n",
       "  'Refinitiv correlation to S&P 500 has changed to positive since 2020.',\n",
       "  '‘Now we have a non-zero correlation,’ says Nic Carter. ‘Death to Bitcoin’ may be temporary, says analyst',\n",
       "  'Digital coin has been highly correlated with Wall Street. However, bulls remain convinced it has upside to $30,000',\n",
       "  'Year-to-date crypto returns are 11%, more than for bonds. Bitcoin-based real-estate fund has tripled in value',\n",
       "  'Ethereum volume has fallen short of pre-crisis levels. Bitcoin is set for its weakest week since November',\n",
       "  'Largest cryptocurrency has lost more than half of its value since November. Bitcoin replaced gold as the world’s most valuable asset',\n",
       "  'Russia’s ban on e-commerce hits crypto assets. Bitcoin trades below key technical level of $40,000'],\n",
       " 'ETH': ['Government to release strategy on crypto regulation early next year. Several federal agencies have expressed concern over the asset class',\n",
       "  'Experts see Bitcoin hitting $20,000 by year-end. Ethereum also seen hitting $6,000 by end of 2022',\n",
       "  'Harmony, DeFik are collaborating on cross-chain applications.',\n",
       "  'Ethereum’s supply will need to drop further to meet demand. Bitcoin’s hard fork has permanently reduced transaction fees',\n",
       "  'Ethereum Foundation releases model to predict future rewards. Miners will be able to compete with less electricity',\n",
       "  'Ethereum set to overtake Bitcoin as the world’s largest cryptocurrency.',\n",
       "  'Check back soon for more information.',\n",
       "  'Russia’s ban on e-commerce hits crypto assets. Bitcoin trades below key technical level of $40,000',\n",
       "  'Report on coming year’s key trends looks at mission-based governance.',\n",
       "  'Dog, Ether and Solana are among biggest winners in 2021.']}"
      ]
     },
     "execution_count": 80,
     "metadata": {},
     "output_type": "execute_result"
    }
   ],
   "source": [
    "summaries = {ticker:summarize(articles[ticker]) for ticker in monitored_tickers}\n",
    "summaries"
   ]
  },
  {
   "cell_type": "code",
   "execution_count": 82,
   "id": "5bce54d6",
   "metadata": {},
   "outputs": [
    {
     "data": {
      "text/plain": [
       "['New proposal is for your browser to learn about your interests.',\n",
       " \"FLoC would let advertisers show ads based on users' browsing habits.\",\n",
       " 'Suleyman was most recently vice president of AI product management.',\n",
       " 'Some of the most prominent AI companies in the world are based in Africa.',\n",
       " 'Earnings season is in full swing, with some big names set to report. Tesla, Microsoft and Google all due to report on Thursday',\n",
       " 'Nvidia proposes replacing FLoC with Topics. VCs fell in love with Europe last year',\n",
       " 'Developer sources say Google is developing a custom processor.',\n",
       " 'Fiscal third-quarter profit beats analysts’ estimates. Revenue growth seen picking up from recent quarters',\n",
       " \"Site claims to have leaked code for a new Chromecast. Company hasn't confirmed or denied the model is in development\",\n",
       " 'Google had argued privacy settings should be dismissed. Arizona is not the first to bring such a case']"
      ]
     },
     "execution_count": 82,
     "metadata": {},
     "output_type": "execute_result"
    }
   ],
   "source": [
    "summaries['GOOGLE']"
   ]
  },
  {
   "cell_type": "markdown",
   "id": "fe7d4340",
   "metadata": {},
   "source": [
    "## Adding Sentiment analysis pipeline "
   ]
  },
  {
   "cell_type": "code",
   "execution_count": 83,
   "id": "d48837b5",
   "metadata": {},
   "outputs": [
    {
     "name": "stderr",
     "output_type": "stream",
     "text": [
      "No model was supplied, defaulted to distilbert-base-uncased-finetuned-sst-2-english (https://huggingface.co/distilbert-base-uncased-finetuned-sst-2-english)\n"
     ]
    },
    {
     "data": {
      "application/vnd.jupyter.widget-view+json": {
       "model_id": "6d5c6a1e2db24d86bd4c8631fe0822f4",
       "version_major": 2,
       "version_minor": 0
      },
      "text/plain": [
       "Downloading:   0%|          | 0.00/629 [00:00<?, ?B/s]"
      ]
     },
     "metadata": {},
     "output_type": "display_data"
    },
    {
     "data": {
      "application/vnd.jupyter.widget-view+json": {
       "model_id": "2c366354c4ab4b5b96d1771622600bbb",
       "version_major": 2,
       "version_minor": 0
      },
      "text/plain": [
       "Downloading:   0%|          | 0.00/256M [00:00<?, ?B/s]"
      ]
     },
     "metadata": {},
     "output_type": "display_data"
    },
    {
     "name": "stderr",
     "output_type": "stream",
     "text": [
      "Some layers from the model checkpoint at distilbert-base-uncased-finetuned-sst-2-english were not used when initializing TFDistilBertForSequenceClassification: ['dropout_19']\n",
      "- This IS expected if you are initializing TFDistilBertForSequenceClassification from the checkpoint of a model trained on another task or with another architecture (e.g. initializing a BertForSequenceClassification model from a BertForPreTraining model).\n",
      "- This IS NOT expected if you are initializing TFDistilBertForSequenceClassification from the checkpoint of a model that you expect to be exactly identical (initializing a BertForSequenceClassification model from a BertForSequenceClassification model).\n",
      "Some layers of TFDistilBertForSequenceClassification were not initialized from the model checkpoint at distilbert-base-uncased-finetuned-sst-2-english and are newly initialized: ['dropout_247']\n",
      "You should probably TRAIN this model on a down-stream task to be able to use it for predictions and inference.\n"
     ]
    },
    {
     "data": {
      "application/vnd.jupyter.widget-view+json": {
       "model_id": "c065d6d3ff4c4f36ae9a050dfa505f59",
       "version_major": 2,
       "version_minor": 0
      },
      "text/plain": [
       "Downloading:   0%|          | 0.00/48.0 [00:00<?, ?B/s]"
      ]
     },
     "metadata": {},
     "output_type": "display_data"
    },
    {
     "data": {
      "application/vnd.jupyter.widget-view+json": {
       "model_id": "6ff7c5addf75459f9b9c3ac49bb2cecc",
       "version_major": 2,
       "version_minor": 0
      },
      "text/plain": [
       "Downloading:   0%|          | 0.00/226k [00:00<?, ?B/s]"
      ]
     },
     "metadata": {},
     "output_type": "display_data"
    }
   ],
   "source": [
    "from transformers import pipeline \n",
    "sentiment = pipeline('sentiment-analysis')"
   ]
  },
  {
   "cell_type": "code",
   "execution_count": 84,
   "id": "97818bfa",
   "metadata": {},
   "outputs": [
    {
     "data": {
      "text/plain": [
       "[{'label': 'NEGATIVE', 'score': 0.9983212351799011},\n",
       " {'label': 'POSITIVE', 'score': 0.8392941951751709},\n",
       " {'label': 'NEGATIVE', 'score': 0.9168791174888611},\n",
       " {'label': 'POSITIVE', 'score': 0.9979791045188904},\n",
       " {'label': 'POSITIVE', 'score': 0.8949053287506104},\n",
       " {'label': 'POSITIVE', 'score': 0.7486724257469177},\n",
       " {'label': 'POSITIVE', 'score': 0.988681435585022},\n",
       " {'label': 'NEGATIVE', 'score': 0.6983675360679626},\n",
       " {'label': 'POSITIVE', 'score': 0.9749817848205566},\n",
       " {'label': 'POSITIVE', 'score': 0.9930908679962158}]"
      ]
     },
     "execution_count": 84,
     "metadata": {},
     "output_type": "execute_result"
    }
   ],
   "source": [
    "sentiment(summaries['TSLA'])"
   ]
  },
  {
   "cell_type": "code",
   "execution_count": 85,
   "id": "f0606f47",
   "metadata": {},
   "outputs": [
    {
     "data": {
      "text/plain": [
       "{'GOOGLE': [{'label': 'NEGATIVE', 'score': 0.8508821725845337},\n",
       "  {'label': 'NEGATIVE', 'score': 0.9984666109085083},\n",
       "  {'label': 'POSITIVE', 'score': 0.9869629740715027},\n",
       "  {'label': 'POSITIVE', 'score': 0.9931246638298035},\n",
       "  {'label': 'POSITIVE', 'score': 0.9979791045188904},\n",
       "  {'label': 'POSITIVE', 'score': 0.8521384596824646},\n",
       "  {'label': 'NEGATIVE', 'score': 0.9921349287033081},\n",
       "  {'label': 'POSITIVE', 'score': 0.9859341979026794},\n",
       "  {'label': 'NEGATIVE', 'score': 0.9990363121032715},\n",
       "  {'label': 'NEGATIVE', 'score': 0.9912421703338623}],\n",
       " 'TSLA': [{'label': 'NEGATIVE', 'score': 0.9983212351799011},\n",
       "  {'label': 'POSITIVE', 'score': 0.8392941951751709},\n",
       "  {'label': 'NEGATIVE', 'score': 0.9168791174888611},\n",
       "  {'label': 'POSITIVE', 'score': 0.9979791045188904},\n",
       "  {'label': 'POSITIVE', 'score': 0.8949053287506104},\n",
       "  {'label': 'POSITIVE', 'score': 0.7486724257469177},\n",
       "  {'label': 'POSITIVE', 'score': 0.988681435585022},\n",
       "  {'label': 'NEGATIVE', 'score': 0.6983675360679626},\n",
       "  {'label': 'POSITIVE', 'score': 0.9749817848205566},\n",
       "  {'label': 'POSITIVE', 'score': 0.9930908679962158}],\n",
       " 'BTC': [{'label': 'POSITIVE', 'score': 0.992746889591217},\n",
       "  {'label': 'NEGATIVE', 'score': 0.920211136341095},\n",
       "  {'label': 'NEGATIVE', 'score': 0.9996740818023682},\n",
       "  {'label': 'POSITIVE', 'score': 0.9987812638282776},\n",
       "  {'label': 'NEGATIVE', 'score': 0.9957762360572815},\n",
       "  {'label': 'NEGATIVE', 'score': 0.9763204455375671},\n",
       "  {'label': 'NEGATIVE', 'score': 0.8970884680747986},\n",
       "  {'label': 'NEGATIVE', 'score': 0.999595582485199},\n",
       "  {'label': 'NEGATIVE', 'score': 0.9997115731239319},\n",
       "  {'label': 'NEGATIVE', 'score': 0.9980048537254333}],\n",
       " 'ETH': [{'label': 'NEGATIVE', 'score': 0.920211136341095},\n",
       "  {'label': 'NEGATIVE', 'score': 0.9942907094955444},\n",
       "  {'label': 'POSITIVE', 'score': 0.9965494871139526},\n",
       "  {'label': 'NEGATIVE', 'score': 0.999096155166626},\n",
       "  {'label': 'NEGATIVE', 'score': 0.9917101263999939},\n",
       "  {'label': 'NEGATIVE', 'score': 0.9712542295455933},\n",
       "  {'label': 'NEGATIVE', 'score': 0.9646313786506653},\n",
       "  {'label': 'NEGATIVE', 'score': 0.9980048537254333},\n",
       "  {'label': 'POSITIVE', 'score': 0.9910219311714172},\n",
       "  {'label': 'POSITIVE', 'score': 0.9998102784156799}]}"
      ]
     },
     "execution_count": 85,
     "metadata": {},
     "output_type": "execute_result"
    }
   ],
   "source": [
    "scores = {ticker:sentiment(summaries[ticker]) for ticker in monitored_tickers}\n",
    "scores"
   ]
  },
  {
   "cell_type": "code",
   "execution_count": 93,
   "id": "90114ed8",
   "metadata": {},
   "outputs": [
    {
     "name": "stdout",
     "output_type": "stream",
     "text": [
      "Tesla, IBM and others due to report earnings on Thursday. Investors cautious ahead of U.S.-China trade talks NEGATIVE 0.9168791174888611\n"
     ]
    }
   ],
   "source": [
    "print(summaries['TSLA'][2], scores['TSLA'][2]['label'],scores['TSLA'][2]['score'])"
   ]
  },
  {
   "cell_type": "markdown",
   "id": "9952c60f",
   "metadata": {},
   "source": [
    "## Exporting Results to CSV"
   ]
  },
  {
   "cell_type": "code",
   "execution_count": 94,
   "id": "f4603c8f",
   "metadata": {},
   "outputs": [],
   "source": [
    "def create_output_array(summaries, scores, urls):\n",
    "    output = []\n",
    "    for ticker in monitored_tickers:\n",
    "        for counter in range(len(summaries[ticker])):\n",
    "            output_this = [\n",
    "                ticker,\n",
    "                summaries[ticker][counter],\n",
    "                scores[ticker][counter]['label'],\n",
    "                scores[ticker][counter]['score'],\n",
    "                urls[ticker][counter]\n",
    "            ]\n",
    "            output.append(output_this)\n",
    "    return output"
   ]
  },
  {
   "cell_type": "code",
   "execution_count": 95,
   "id": "3fc36232",
   "metadata": {},
   "outputs": [
    {
     "data": {
      "text/plain": [
       "[['GOOGLE',\n",
       "  'New proposal is for your browser to learn about your interests.',\n",
       "  'NEGATIVE',\n",
       "  0.8508821725845337,\n",
       "  'https://finance.yahoo.com/news/google-kills-off-floc-replaces-130050952.html'],\n",
       " ['GOOGLE',\n",
       "  \"FLoC would let advertisers show ads based on users' browsing habits.\",\n",
       "  'NEGATIVE',\n",
       "  0.9984666109085083,\n",
       "  'https://finance.yahoo.com/news/google-offers-replacement-advertising-cookies-130850396.html'],\n",
       " ['GOOGLE',\n",
       "  'Suleyman was most recently vice president of AI product management.',\n",
       "  'POSITIVE',\n",
       "  0.9869629740715027,\n",
       "  'https://finance.yahoo.com/news/deepmind-ai-mustafa-suleyman-google-greylock-partners-152049755.html'],\n",
       " ['GOOGLE',\n",
       "  'Some of the most prominent AI companies in the world are based in Africa.',\n",
       "  'POSITIVE',\n",
       "  0.9931246638298035,\n",
       "  'https://finance.yahoo.com/news/tunisian-enterprise-ai-startup-instadeep-120357959.html'],\n",
       " ['GOOGLE',\n",
       "  'Earnings season is in full swing, with some big names set to report. Tesla, Microsoft and Google all due to report on Thursday',\n",
       "  'POSITIVE',\n",
       "  0.9979791045188904,\n",
       "  'https://finance.yahoo.com/news/data-trek-on-why-big-tech-is-being-battered-despite-q-4-001820239.html'],\n",
       " ['GOOGLE',\n",
       "  'Nvidia proposes replacing FLoC with Topics. VCs fell in love with Europe last year',\n",
       "  'POSITIVE',\n",
       "  0.8521384596824646,\n",
       "  'https://ca.finance.yahoo.com/news/daily-crunch-google-dumps-floc-231354351.html'],\n",
       " ['GOOGLE',\n",
       "  'Developer sources say Google is developing a custom processor.',\n",
       "  'NEGATIVE',\n",
       "  0.9921349287033081,\n",
       "  'https://finance.yahoo.com/news/google-ar-headset-leak-173237029.html'],\n",
       " ['GOOGLE',\n",
       "  'Fiscal third-quarter profit beats analysts’ estimates. Revenue growth seen picking up from recent quarters',\n",
       "  'POSITIVE',\n",
       "  0.9859341979026794,\n",
       "  'https://finance.yahoo.com/news/microsoft-slowing-cloud-growth-casts-212133658.html'],\n",
       " ['GOOGLE',\n",
       "  \"Site claims to have leaked code for a new Chromecast. Company hasn't confirmed or denied the model is in development\",\n",
       "  'NEGATIVE',\n",
       "  0.9990363121032715,\n",
       "  'https://finance.yahoo.com/news/google-chromecast-with-google-tv-2-boreal-181018441.html'],\n",
       " ['GOOGLE',\n",
       "  'Google had argued privacy settings should be dismissed. Arizona is not the first to bring such a case',\n",
       "  'NEGATIVE',\n",
       "  0.9912421703338623,\n",
       "  'https://ca.finance.yahoo.com/news/google-cannot-escape-location-privacy-193641130.html'],\n",
       " ['TSLA',\n",
       "  'Farley wants to sell more electric vehicles, pay more attention to digital.',\n",
       "  'NEGATIVE',\n",
       "  0.9983212351799011,\n",
       "  'https://ca.finance.yahoo.com/news/ford-aims-tesla-connected-commercial-175615294.html'],\n",
       " ['TSLA',\n",
       "  'Moderna’s stock is trading near all-time highs. Company’s lead drug is in late-stage study for lung cancer',\n",
       "  'POSITIVE',\n",
       "  0.8392941951751709,\n",
       "  'https://finance.yahoo.com/news/bof-a-on-moderna-upgrading-to-neutral-rating-on-the-tesla-of-biotech-205837705.html'],\n",
       " ['TSLA',\n",
       "  'Tesla, IBM and others due to report earnings on Thursday. Investors cautious ahead of U.S.-China trade talks',\n",
       "  'NEGATIVE',\n",
       "  0.9168791174888611,\n",
       "  'https://finance.yahoo.com/news/tesla-abbott-labs-intel-earnings-163039281.html'],\n",
       " ['TSLA',\n",
       "  'Earnings season is in full swing, with some big names set to report. Tesla, Microsoft and Google all due to report on Thursday',\n",
       "  'POSITIVE',\n",
       "  0.9979791045188904,\n",
       "  'https://finance.yahoo.com/news/data-trek-on-why-big-tech-is-being-battered-despite-q-4-001820239.html'],\n",
       " ['TSLA',\n",
       "  \"Moody's has upgraded Tesla's corporate family rating to Ba1 from Ba1, outlook positive.\",\n",
       "  'POSITIVE',\n",
       "  0.8949053287506104,\n",
       "  'https://finance.yahoo.com/news/tesla-inc-moodys-upgrades-teslas-020806756.html'],\n",
       " ['TSLA',\n",
       "  'Deal of the day: Tesla’s next-gen battery could be bigger and cheaper.',\n",
       "  'POSITIVE',\n",
       "  0.7486724257469177,\n",
       "  'https://finance.yahoo.com/news/the-morning-after-panasonics-higher-capacity-tesla-battery-could-appear-next-year-121502013.html'],\n",
       " ['TSLA',\n",
       "  'Purchases and sales details are provided by New York Strategic Advisors.',\n",
       "  'POSITIVE',\n",
       "  0.988681435585022,\n",
       "  'https://finance.yahoo.com/news/strategic-advisors-llc-buys-nvidia-023803584.html'],\n",
       " ['TSLA',\n",
       "  'Earnings season is under way with more than half of the companies reporting.',\n",
       "  'NEGATIVE',\n",
       "  0.6983675360679626,\n",
       "  'https://finance.yahoo.com/news/zacks-analyst-blog-highlights-tesla-164404287.html'],\n",
       " ['TSLA',\n",
       "  'Analyst sees opportunity to transform industry. ‘We’re going to get into a $5 trillion bet,’ Ives says',\n",
       "  'POSITIVE',\n",
       "  0.9749817848205566,\n",
       "  'https://finance.yahoo.com/news/tesla-leads-the-biggest-transformation-to-the-auto-industry-since-the-1950-s-dan-ives-says-114718961.html'],\n",
       " ['TSLA',\n",
       "  'Plaid Air claims three straight wins in a quarter-mile faceoff. Tesla Model S also wins in straight-line drag races',\n",
       "  'POSITIVE',\n",
       "  0.9930908679962158,\n",
       "  'https://finance.yahoo.com/news/tesla-model-s-plaid-lucid-air-drag-race-195013476.html'],\n",
       " ['BTC',\n",
       "  'Digital currency is ‘a tool for social justice,’ adviser says. Bitcoin is ‘a generational asset,’ says Charlene Fadire',\n",
       "  'POSITIVE',\n",
       "  0.992746889591217,\n",
       "  'https://finance.yahoo.com/news/bitcoin-tool-for-social-justice-ex-government-regulator-turned-crypto-adviser-123417764.html'],\n",
       " ['BTC',\n",
       "  'Government to release strategy on crypto regulation early next year. Several federal agencies have expressed concern over the asset class',\n",
       "  'NEGATIVE',\n",
       "  0.920211136341095,\n",
       "  'https://finance.yahoo.com/news/white-house-to-enter-the-fray-on-crypto-regulation-with-an-eye-on-illicit-flows-080056833.html'],\n",
       " ['BTC',\n",
       "  'Largest cryptocurrency has fallen more than 50 per cent from all-time high. ‘Cryptocurrency is likely to start pulling away from assets,’ analyst says',\n",
       "  'NEGATIVE',\n",
       "  0.9996740818023682,\n",
       "  'https://uk.finance.yahoo.com/news/bitcoin-black-friday-price-crash-164809913.html'],\n",
       " ['BTC',\n",
       "  'Refinitiv correlation to S&P 500 has changed to positive since 2020.',\n",
       "  'POSITIVE',\n",
       "  0.9987812638282776,\n",
       "  'https://ca.finance.yahoo.com/news/cryptoverse-teenage-bitcoin-throws-interest-061237683.html'],\n",
       " ['BTC',\n",
       "  '‘Now we have a non-zero correlation,’ says Nic Carter. ‘Death to Bitcoin’ may be temporary, says analyst',\n",
       "  'NEGATIVE',\n",
       "  0.9957762360572815,\n",
       "  'https://finance.yahoo.com/news/itcoin-correlated-with-long-term-tech-stocks-coin-metrics-co-founder-213221755.html'],\n",
       " ['BTC',\n",
       "  'Digital coin has been highly correlated with Wall Street. However, bulls remain convinced it has upside to $30,000',\n",
       "  'NEGATIVE',\n",
       "  0.9763204455375671,\n",
       "  'https://finance.yahoo.com/news/bitcoin-stuck-between-powder-keg-of-volatility-impulse-to-buy-234557953.html'],\n",
       " ['BTC',\n",
       "  'Year-to-date crypto returns are 11%, more than for bonds. Bitcoin-based real-estate fund has tripled in value',\n",
       "  'NEGATIVE',\n",
       "  0.8970884680747986,\n",
       "  'https://finance.yahoo.com/news/bitcoin-stages-recovery-but-at-least-one-analyst-sees-bear-case-of-14-k-215122313.html'],\n",
       " ['BTC',\n",
       "  'Ethereum volume has fallen short of pre-crisis levels. Bitcoin is set for its weakest week since November',\n",
       "  'NEGATIVE',\n",
       "  0.999595582485199,\n",
       "  'https://finance.yahoo.com/news/bitcoin-ticks-up-but-crypto-braced-for-more-selling-as-powell-fed-turn-hawkish-112002508.html'],\n",
       " ['BTC',\n",
       "  'Largest cryptocurrency has lost more than half of its value since November. Bitcoin replaced gold as the world’s most valuable asset',\n",
       "  'NEGATIVE',\n",
       "  0.9997115731239319,\n",
       "  'https://au.finance.yahoo.com/news/bitcoin-plummeted-in-2022-why-012334481.html'],\n",
       " ['BTC',\n",
       "  'Russia’s ban on e-commerce hits crypto assets. Bitcoin trades below key technical level of $40,000',\n",
       "  'NEGATIVE',\n",
       "  0.9980048537254333,\n",
       "  'https://finance.yahoo.com/news/bitcoin-rout-not-over-yet-as-risk-aversion-hammers-crypto-stocks-153559722.html'],\n",
       " ['ETH',\n",
       "  'Government to release strategy on crypto regulation early next year. Several federal agencies have expressed concern over the asset class',\n",
       "  'NEGATIVE',\n",
       "  0.920211136341095,\n",
       "  'https://finance.yahoo.com/news/white-house-to-enter-the-fray-on-crypto-regulation-with-an-eye-on-illicit-flows-080056833.html'],\n",
       " ['ETH',\n",
       "  'Experts see Bitcoin hitting $20,000 by year-end. Ethereum also seen hitting $6,000 by end of 2022',\n",
       "  'NEGATIVE',\n",
       "  0.9942907094955444,\n",
       "  'https://finance.yahoo.com/news/cryptocurrency-price-prediction-2022-130005664.html'],\n",
       " ['ETH',\n",
       "  'Harmony, DeFik are collaborating on cross-chain applications.',\n",
       "  'POSITIVE',\n",
       "  0.9965494871139526,\n",
       "  'https://finance.yahoo.com/news/123-swap-platform-completed-seed-021400408.html'],\n",
       " ['ETH',\n",
       "  'Ethereum’s supply will need to drop further to meet demand. Bitcoin’s hard fork has permanently reduced transaction fees',\n",
       "  'NEGATIVE',\n",
       "  0.999096155166626,\n",
       "  'https://finance.yahoo.com/news/polygon-eip-1559-implementation-might-081737868.html'],\n",
       " ['ETH',\n",
       "  'Ethereum Foundation releases model to predict future rewards. Miners will be able to compete with less electricity',\n",
       "  'NEGATIVE',\n",
       "  0.9917101263999939,\n",
       "  'https://finance.yahoo.com/news/ethereum-transformed-2022-123000499.html'],\n",
       " ['ETH',\n",
       "  'Ethereum set to overtake Bitcoin as the world’s largest cryptocurrency.',\n",
       "  'NEGATIVE',\n",
       "  0.9712542295455933,\n",
       "  'https://ca.finance.yahoo.com/news/bitcoin-ethereum-2022-choose-131500322.html'],\n",
       " ['ETH',\n",
       "  'Check back soon for more information.',\n",
       "  'NEGATIVE',\n",
       "  0.9646313786506653,\n",
       "  'https://finance.yahoo.com/video/crypto-ethereum-outshined-bitcoin-2021-152514754.html'],\n",
       " ['ETH',\n",
       "  'Russia’s ban on e-commerce hits crypto assets. Bitcoin trades below key technical level of $40,000',\n",
       "  'NEGATIVE',\n",
       "  0.9980048537254333,\n",
       "  'https://finance.yahoo.com/news/bitcoin-rout-not-over-yet-as-risk-aversion-hammers-crypto-stocks-153559722.html'],\n",
       " ['ETH',\n",
       "  'Report on coming year’s key trends looks at mission-based governance.',\n",
       "  'POSITIVE',\n",
       "  0.9910219311714172,\n",
       "  'https://finance.yahoo.com/news/2022-ethereum-185233774.html'],\n",
       " ['ETH',\n",
       "  'Dog, Ether and Solana are among biggest winners in 2021.',\n",
       "  'POSITIVE',\n",
       "  0.9998102784156799,\n",
       "  'https://finance.yahoo.com/news/ether-outperforms-bitcoin-rose-to-the-top-of-crowded-crypto-field-in-2021-212258272.html']]"
      ]
     },
     "execution_count": 95,
     "metadata": {},
     "output_type": "execute_result"
    }
   ],
   "source": [
    "final_output = create_output_array(summaries, scores, cleaned_urls)\n",
    "final_output"
   ]
  },
  {
   "cell_type": "code",
   "execution_count": 96,
   "id": "83c7867a",
   "metadata": {},
   "outputs": [],
   "source": [
    "final_output.insert(0, ['Ticker', 'Summary', 'Label', 'Confidence', 'URL'])"
   ]
  },
  {
   "cell_type": "code",
   "execution_count": 97,
   "id": "2174f26a",
   "metadata": {},
   "outputs": [
    {
     "data": {
      "text/plain": [
       "[['Ticker', 'Summary', 'Label', 'Confidence', 'URL'],\n",
       " ['GOOGLE',\n",
       "  'New proposal is for your browser to learn about your interests.',\n",
       "  'NEGATIVE',\n",
       "  0.8508821725845337,\n",
       "  'https://finance.yahoo.com/news/google-kills-off-floc-replaces-130050952.html'],\n",
       " ['GOOGLE',\n",
       "  \"FLoC would let advertisers show ads based on users' browsing habits.\",\n",
       "  'NEGATIVE',\n",
       "  0.9984666109085083,\n",
       "  'https://finance.yahoo.com/news/google-offers-replacement-advertising-cookies-130850396.html'],\n",
       " ['GOOGLE',\n",
       "  'Suleyman was most recently vice president of AI product management.',\n",
       "  'POSITIVE',\n",
       "  0.9869629740715027,\n",
       "  'https://finance.yahoo.com/news/deepmind-ai-mustafa-suleyman-google-greylock-partners-152049755.html'],\n",
       " ['GOOGLE',\n",
       "  'Some of the most prominent AI companies in the world are based in Africa.',\n",
       "  'POSITIVE',\n",
       "  0.9931246638298035,\n",
       "  'https://finance.yahoo.com/news/tunisian-enterprise-ai-startup-instadeep-120357959.html'],\n",
       " ['GOOGLE',\n",
       "  'Earnings season is in full swing, with some big names set to report. Tesla, Microsoft and Google all due to report on Thursday',\n",
       "  'POSITIVE',\n",
       "  0.9979791045188904,\n",
       "  'https://finance.yahoo.com/news/data-trek-on-why-big-tech-is-being-battered-despite-q-4-001820239.html'],\n",
       " ['GOOGLE',\n",
       "  'Nvidia proposes replacing FLoC with Topics. VCs fell in love with Europe last year',\n",
       "  'POSITIVE',\n",
       "  0.8521384596824646,\n",
       "  'https://ca.finance.yahoo.com/news/daily-crunch-google-dumps-floc-231354351.html'],\n",
       " ['GOOGLE',\n",
       "  'Developer sources say Google is developing a custom processor.',\n",
       "  'NEGATIVE',\n",
       "  0.9921349287033081,\n",
       "  'https://finance.yahoo.com/news/google-ar-headset-leak-173237029.html'],\n",
       " ['GOOGLE',\n",
       "  'Fiscal third-quarter profit beats analysts’ estimates. Revenue growth seen picking up from recent quarters',\n",
       "  'POSITIVE',\n",
       "  0.9859341979026794,\n",
       "  'https://finance.yahoo.com/news/microsoft-slowing-cloud-growth-casts-212133658.html'],\n",
       " ['GOOGLE',\n",
       "  \"Site claims to have leaked code for a new Chromecast. Company hasn't confirmed or denied the model is in development\",\n",
       "  'NEGATIVE',\n",
       "  0.9990363121032715,\n",
       "  'https://finance.yahoo.com/news/google-chromecast-with-google-tv-2-boreal-181018441.html'],\n",
       " ['GOOGLE',\n",
       "  'Google had argued privacy settings should be dismissed. Arizona is not the first to bring such a case',\n",
       "  'NEGATIVE',\n",
       "  0.9912421703338623,\n",
       "  'https://ca.finance.yahoo.com/news/google-cannot-escape-location-privacy-193641130.html'],\n",
       " ['TSLA',\n",
       "  'Farley wants to sell more electric vehicles, pay more attention to digital.',\n",
       "  'NEGATIVE',\n",
       "  0.9983212351799011,\n",
       "  'https://ca.finance.yahoo.com/news/ford-aims-tesla-connected-commercial-175615294.html'],\n",
       " ['TSLA',\n",
       "  'Moderna’s stock is trading near all-time highs. Company’s lead drug is in late-stage study for lung cancer',\n",
       "  'POSITIVE',\n",
       "  0.8392941951751709,\n",
       "  'https://finance.yahoo.com/news/bof-a-on-moderna-upgrading-to-neutral-rating-on-the-tesla-of-biotech-205837705.html'],\n",
       " ['TSLA',\n",
       "  'Tesla, IBM and others due to report earnings on Thursday. Investors cautious ahead of U.S.-China trade talks',\n",
       "  'NEGATIVE',\n",
       "  0.9168791174888611,\n",
       "  'https://finance.yahoo.com/news/tesla-abbott-labs-intel-earnings-163039281.html'],\n",
       " ['TSLA',\n",
       "  'Earnings season is in full swing, with some big names set to report. Tesla, Microsoft and Google all due to report on Thursday',\n",
       "  'POSITIVE',\n",
       "  0.9979791045188904,\n",
       "  'https://finance.yahoo.com/news/data-trek-on-why-big-tech-is-being-battered-despite-q-4-001820239.html'],\n",
       " ['TSLA',\n",
       "  \"Moody's has upgraded Tesla's corporate family rating to Ba1 from Ba1, outlook positive.\",\n",
       "  'POSITIVE',\n",
       "  0.8949053287506104,\n",
       "  'https://finance.yahoo.com/news/tesla-inc-moodys-upgrades-teslas-020806756.html'],\n",
       " ['TSLA',\n",
       "  'Deal of the day: Tesla’s next-gen battery could be bigger and cheaper.',\n",
       "  'POSITIVE',\n",
       "  0.7486724257469177,\n",
       "  'https://finance.yahoo.com/news/the-morning-after-panasonics-higher-capacity-tesla-battery-could-appear-next-year-121502013.html'],\n",
       " ['TSLA',\n",
       "  'Purchases and sales details are provided by New York Strategic Advisors.',\n",
       "  'POSITIVE',\n",
       "  0.988681435585022,\n",
       "  'https://finance.yahoo.com/news/strategic-advisors-llc-buys-nvidia-023803584.html'],\n",
       " ['TSLA',\n",
       "  'Earnings season is under way with more than half of the companies reporting.',\n",
       "  'NEGATIVE',\n",
       "  0.6983675360679626,\n",
       "  'https://finance.yahoo.com/news/zacks-analyst-blog-highlights-tesla-164404287.html'],\n",
       " ['TSLA',\n",
       "  'Analyst sees opportunity to transform industry. ‘We’re going to get into a $5 trillion bet,’ Ives says',\n",
       "  'POSITIVE',\n",
       "  0.9749817848205566,\n",
       "  'https://finance.yahoo.com/news/tesla-leads-the-biggest-transformation-to-the-auto-industry-since-the-1950-s-dan-ives-says-114718961.html'],\n",
       " ['TSLA',\n",
       "  'Plaid Air claims three straight wins in a quarter-mile faceoff. Tesla Model S also wins in straight-line drag races',\n",
       "  'POSITIVE',\n",
       "  0.9930908679962158,\n",
       "  'https://finance.yahoo.com/news/tesla-model-s-plaid-lucid-air-drag-race-195013476.html'],\n",
       " ['BTC',\n",
       "  'Digital currency is ‘a tool for social justice,’ adviser says. Bitcoin is ‘a generational asset,’ says Charlene Fadire',\n",
       "  'POSITIVE',\n",
       "  0.992746889591217,\n",
       "  'https://finance.yahoo.com/news/bitcoin-tool-for-social-justice-ex-government-regulator-turned-crypto-adviser-123417764.html'],\n",
       " ['BTC',\n",
       "  'Government to release strategy on crypto regulation early next year. Several federal agencies have expressed concern over the asset class',\n",
       "  'NEGATIVE',\n",
       "  0.920211136341095,\n",
       "  'https://finance.yahoo.com/news/white-house-to-enter-the-fray-on-crypto-regulation-with-an-eye-on-illicit-flows-080056833.html'],\n",
       " ['BTC',\n",
       "  'Largest cryptocurrency has fallen more than 50 per cent from all-time high. ‘Cryptocurrency is likely to start pulling away from assets,’ analyst says',\n",
       "  'NEGATIVE',\n",
       "  0.9996740818023682,\n",
       "  'https://uk.finance.yahoo.com/news/bitcoin-black-friday-price-crash-164809913.html'],\n",
       " ['BTC',\n",
       "  'Refinitiv correlation to S&P 500 has changed to positive since 2020.',\n",
       "  'POSITIVE',\n",
       "  0.9987812638282776,\n",
       "  'https://ca.finance.yahoo.com/news/cryptoverse-teenage-bitcoin-throws-interest-061237683.html'],\n",
       " ['BTC',\n",
       "  '‘Now we have a non-zero correlation,’ says Nic Carter. ‘Death to Bitcoin’ may be temporary, says analyst',\n",
       "  'NEGATIVE',\n",
       "  0.9957762360572815,\n",
       "  'https://finance.yahoo.com/news/itcoin-correlated-with-long-term-tech-stocks-coin-metrics-co-founder-213221755.html'],\n",
       " ['BTC',\n",
       "  'Digital coin has been highly correlated with Wall Street. However, bulls remain convinced it has upside to $30,000',\n",
       "  'NEGATIVE',\n",
       "  0.9763204455375671,\n",
       "  'https://finance.yahoo.com/news/bitcoin-stuck-between-powder-keg-of-volatility-impulse-to-buy-234557953.html'],\n",
       " ['BTC',\n",
       "  'Year-to-date crypto returns are 11%, more than for bonds. Bitcoin-based real-estate fund has tripled in value',\n",
       "  'NEGATIVE',\n",
       "  0.8970884680747986,\n",
       "  'https://finance.yahoo.com/news/bitcoin-stages-recovery-but-at-least-one-analyst-sees-bear-case-of-14-k-215122313.html'],\n",
       " ['BTC',\n",
       "  'Ethereum volume has fallen short of pre-crisis levels. Bitcoin is set for its weakest week since November',\n",
       "  'NEGATIVE',\n",
       "  0.999595582485199,\n",
       "  'https://finance.yahoo.com/news/bitcoin-ticks-up-but-crypto-braced-for-more-selling-as-powell-fed-turn-hawkish-112002508.html'],\n",
       " ['BTC',\n",
       "  'Largest cryptocurrency has lost more than half of its value since November. Bitcoin replaced gold as the world’s most valuable asset',\n",
       "  'NEGATIVE',\n",
       "  0.9997115731239319,\n",
       "  'https://au.finance.yahoo.com/news/bitcoin-plummeted-in-2022-why-012334481.html'],\n",
       " ['BTC',\n",
       "  'Russia’s ban on e-commerce hits crypto assets. Bitcoin trades below key technical level of $40,000',\n",
       "  'NEGATIVE',\n",
       "  0.9980048537254333,\n",
       "  'https://finance.yahoo.com/news/bitcoin-rout-not-over-yet-as-risk-aversion-hammers-crypto-stocks-153559722.html'],\n",
       " ['ETH',\n",
       "  'Government to release strategy on crypto regulation early next year. Several federal agencies have expressed concern over the asset class',\n",
       "  'NEGATIVE',\n",
       "  0.920211136341095,\n",
       "  'https://finance.yahoo.com/news/white-house-to-enter-the-fray-on-crypto-regulation-with-an-eye-on-illicit-flows-080056833.html'],\n",
       " ['ETH',\n",
       "  'Experts see Bitcoin hitting $20,000 by year-end. Ethereum also seen hitting $6,000 by end of 2022',\n",
       "  'NEGATIVE',\n",
       "  0.9942907094955444,\n",
       "  'https://finance.yahoo.com/news/cryptocurrency-price-prediction-2022-130005664.html'],\n",
       " ['ETH',\n",
       "  'Harmony, DeFik are collaborating on cross-chain applications.',\n",
       "  'POSITIVE',\n",
       "  0.9965494871139526,\n",
       "  'https://finance.yahoo.com/news/123-swap-platform-completed-seed-021400408.html'],\n",
       " ['ETH',\n",
       "  'Ethereum’s supply will need to drop further to meet demand. Bitcoin’s hard fork has permanently reduced transaction fees',\n",
       "  'NEGATIVE',\n",
       "  0.999096155166626,\n",
       "  'https://finance.yahoo.com/news/polygon-eip-1559-implementation-might-081737868.html'],\n",
       " ['ETH',\n",
       "  'Ethereum Foundation releases model to predict future rewards. Miners will be able to compete with less electricity',\n",
       "  'NEGATIVE',\n",
       "  0.9917101263999939,\n",
       "  'https://finance.yahoo.com/news/ethereum-transformed-2022-123000499.html'],\n",
       " ['ETH',\n",
       "  'Ethereum set to overtake Bitcoin as the world’s largest cryptocurrency.',\n",
       "  'NEGATIVE',\n",
       "  0.9712542295455933,\n",
       "  'https://ca.finance.yahoo.com/news/bitcoin-ethereum-2022-choose-131500322.html'],\n",
       " ['ETH',\n",
       "  'Check back soon for more information.',\n",
       "  'NEGATIVE',\n",
       "  0.9646313786506653,\n",
       "  'https://finance.yahoo.com/video/crypto-ethereum-outshined-bitcoin-2021-152514754.html'],\n",
       " ['ETH',\n",
       "  'Russia’s ban on e-commerce hits crypto assets. Bitcoin trades below key technical level of $40,000',\n",
       "  'NEGATIVE',\n",
       "  0.9980048537254333,\n",
       "  'https://finance.yahoo.com/news/bitcoin-rout-not-over-yet-as-risk-aversion-hammers-crypto-stocks-153559722.html'],\n",
       " ['ETH',\n",
       "  'Report on coming year’s key trends looks at mission-based governance.',\n",
       "  'POSITIVE',\n",
       "  0.9910219311714172,\n",
       "  'https://finance.yahoo.com/news/2022-ethereum-185233774.html'],\n",
       " ['ETH',\n",
       "  'Dog, Ether and Solana are among biggest winners in 2021.',\n",
       "  'POSITIVE',\n",
       "  0.9998102784156799,\n",
       "  'https://finance.yahoo.com/news/ether-outperforms-bitcoin-rose-to-the-top-of-crowded-crypto-field-in-2021-212258272.html']]"
      ]
     },
     "execution_count": 97,
     "metadata": {},
     "output_type": "execute_result"
    }
   ],
   "source": [
    "final_output"
   ]
  },
  {
   "cell_type": "code",
   "execution_count": 98,
   "id": "557046ae",
   "metadata": {},
   "outputs": [],
   "source": [
    "import csv\n",
    "with open('assetsummaries.csv', mode='w', newline='') as f:\n",
    "    csv_writer = csv.writer(f, delimiter=',', quotechar='\"', quoting=csv.QUOTE_MINIMAL)\n",
    "    csv_writer.writerows(final_output)"
   ]
  },
  {
   "cell_type": "code",
   "execution_count": 101,
   "id": "f53745e3",
   "metadata": {},
   "outputs": [],
   "source": [
    "import pandas as pd"
   ]
  },
  {
   "cell_type": "code",
   "execution_count": 108,
   "id": "df8b21a5",
   "metadata": {},
   "outputs": [],
   "source": [
    "data = pd.read_csv('assetsummaries.csv',sep=\";\", encoding='cp1252')"
   ]
  },
  {
   "cell_type": "code",
   "execution_count": 113,
   "id": "a15adf6f",
   "metadata": {
    "scrolled": true
   },
   "outputs": [
    {
     "data": {
      "text/html": [
       "<div>\n",
       "<style scoped>\n",
       "    .dataframe tbody tr th:only-of-type {\n",
       "        vertical-align: middle;\n",
       "    }\n",
       "\n",
       "    .dataframe tbody tr th {\n",
       "        vertical-align: top;\n",
       "    }\n",
       "\n",
       "    .dataframe thead th {\n",
       "        text-align: right;\n",
       "    }\n",
       "</style>\n",
       "<table border=\"1\" class=\"dataframe\">\n",
       "  <thead>\n",
       "    <tr style=\"text-align: right;\">\n",
       "      <th></th>\n",
       "      <th>Ticker,Summary,Label,Confidence,URL</th>\n",
       "    </tr>\n",
       "  </thead>\n",
       "  <tbody>\n",
       "    <tr>\n",
       "      <th>0</th>\n",
       "      <td>GOOGLE,New proposal is for your browser to lea...</td>\n",
       "    </tr>\n",
       "    <tr>\n",
       "      <th>1</th>\n",
       "      <td>GOOGLE,FLoC would let advertisers show ads bas...</td>\n",
       "    </tr>\n",
       "    <tr>\n",
       "      <th>2</th>\n",
       "      <td>GOOGLE,Suleyman was most recently vice preside...</td>\n",
       "    </tr>\n",
       "    <tr>\n",
       "      <th>3</th>\n",
       "      <td>GOOGLE,Some of the most prominent AI companies...</td>\n",
       "    </tr>\n",
       "    <tr>\n",
       "      <th>4</th>\n",
       "      <td>GOOGLE,\"Earnings season is in full swing, with...</td>\n",
       "    </tr>\n",
       "  </tbody>\n",
       "</table>\n",
       "</div>"
      ],
      "text/plain": [
       "                 Ticker,Summary,Label,Confidence,URL\n",
       "0  GOOGLE,New proposal is for your browser to lea...\n",
       "1  GOOGLE,FLoC would let advertisers show ads bas...\n",
       "2  GOOGLE,Suleyman was most recently vice preside...\n",
       "3  GOOGLE,Some of the most prominent AI companies...\n",
       "4  GOOGLE,\"Earnings season is in full swing, with..."
      ]
     },
     "execution_count": 113,
     "metadata": {},
     "output_type": "execute_result"
    }
   ],
   "source": [
    "data.head()"
   ]
  },
  {
   "cell_type": "code",
   "execution_count": null,
   "id": "5be21005",
   "metadata": {},
   "outputs": [],
   "source": []
  }
 ],
 "metadata": {
  "kernelspec": {
   "display_name": "Python 3",
   "language": "python",
   "name": "python3"
  },
  "language_info": {
   "codemirror_mode": {
    "name": "ipython",
    "version": 3
   },
   "file_extension": ".py",
   "mimetype": "text/x-python",
   "name": "python",
   "nbconvert_exporter": "python",
   "pygments_lexer": "ipython3",
   "version": "3.9.6"
  }
 },
 "nbformat": 4,
 "nbformat_minor": 5
}
